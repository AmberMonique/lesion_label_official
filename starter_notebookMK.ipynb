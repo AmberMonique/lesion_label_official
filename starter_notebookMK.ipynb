{
 "cells": [
  {
   "cell_type": "markdown",
   "metadata": {},
   "source": [
    "# The important parts of the code"
   ]
  },
  {
   "cell_type": "markdown",
   "metadata": {},
   "source": [
    "## Command imports"
   ]
  },
  {
   "cell_type": "code",
   "execution_count": 308,
   "metadata": {
    "collapsed": false
   },
   "outputs": [
    {
     "name": "stdout",
     "output_type": "stream",
     "text": [
      "Populating the interactive namespace from numpy and matplotlib\n"
     ]
    },
    {
     "name": "stderr",
     "output_type": "stream",
     "text": [
      "WARNING: pylab import has clobbered these variables: ['test']\n",
      "`%matplotlib` prevents importing * from pylab and numpy\n"
     ]
    }
   ],
   "source": [
    "%pylab inline \n",
    "import os\n",
    "import nibabel as nib\n",
    "import numpy as np\n",
    "import glob\n",
    "from scipy.ndimage import label\n",
    "from numpy.linalg import inv"
   ]
  },
  {
   "cell_type": "markdown",
   "metadata": {},
   "source": [
    "## Import mse IDs "
   ]
  },
  {
   "cell_type": "code",
   "execution_count": 309,
   "metadata": {
    "collapsed": false
   },
   "outputs": [
    {
     "name": "stdout",
     "output_type": "stream",
     "text": [
      "['mse1474']\n"
     ]
    }
   ],
   "source": [
    "#subjects = np.genfromtxt(\"pbr_baselines.txt\", dtype=str)\n",
    "subjects = [\"mse1474\"]\n",
    "all_sub_results = [[\"mseID\",\n",
    "                   \"lesion number and type\",      \n",
    "                   \"number of subcortical lesions\",\n",
    "                   \"number of juxtacortical lesions\",\n",
    "                   \"number of periventricular lesions\",\n",
    "                   \"number of infratentorial lesions\",\n",
    "                   \"number of errors\"]]\n",
    "print subjects[:5]"
   ]
  },
  {
   "cell_type": "markdown",
   "metadata": {},
   "source": [
    "## Set variables to lesion/segmentation files, freeview cmdline copy and paste"
   ]
  },
  {
   "cell_type": "code",
   "execution_count": 310,
   "metadata": {
    "collapsed": false
   },
   "outputs": [
    {
     "name": "stdout",
     "output_type": "stream",
     "text": [
      "/data/henry7/PBR/subjects/mse1474/lesions_manual/ms242-mse1474-002-AX_T1_3D_IRSPGR/alignment_lesions.nii.gz\n",
      "/data/henry7/PBR/subjects/mse1474/masks/ms242-mse1474-002-AX_T1_3D_IRSPGR/segmentation.nii.gz\n",
      "/data/henry6/PBR/surfaces/ms242-mse1474-002-AX_T1_3D_IRSPGR/mri/ribbon.mgz\n",
      "\n",
      "Freeview link:\n",
      "\n",
      "freeview /data/henry7/PBR/subjects/mse1474/masks/ms242-mse1474-002-AX_T1_3D_IRSPGR/segmentation.nii.gz /data/henry7/PBR/subjects/mse1474/lesions_manual/ms242-mse1474-002-AX_T1_3D_IRSPGR/alignment_lesions.nii.gz /data/henry6/PBR/surfaces/ms242-mse1474-002-AX_T1_3D_IRSPGR/mri/ribbon.mgz\n"
     ]
    }
   ],
   "source": [
    "for les_file in glob.glob(\"/data/henry7/PBR/subjects/%s/lesions_manual/*/alignment_lesions.nii.gz\" % subjects[0]):\n",
    "    print les_file\n",
    "for seg_file in glob.glob(\"/data/henry7/PBR/subjects/%s/masks/*/segmentation.nii.gz\" % subjects[0]):\n",
    "    print seg_file\n",
    "for gm_file in glob.glob(\"/data/henry6/PBR/surfaces/*%s*/mri/ribbon.mgz\" % subjects[0]):\n",
    "    print gm_file\n",
    "\n",
    "print\n",
    "print \"Freeview link:\"\n",
    "print \n",
    "print \"freeview\", seg_file, les_file, gm_file"
   ]
  },
  {
   "cell_type": "markdown",
   "metadata": {},
   "source": [
    "## Binarize"
   ]
  },
  {
   "cell_type": "markdown",
   "metadata": {},
   "source": [
    "enlarged_gm = Binarize(in_file=rib_file, match=3, dilate=3, binary_file='/home/mkhan/Temp_Binary/%s' % subjects[0])\n",
    "enlarged_gm.cmdline"
   ]
  },
  {
   "cell_type": "markdown",
   "metadata": {},
   "source": [
    "## Obtain affines "
   ]
  },
  {
   "cell_type": "code",
   "execution_count": 311,
   "metadata": {
    "collapsed": false
   },
   "outputs": [
    {
     "name": "stdout",
     "output_type": "stream",
     "text": [
      "(256, 256, 150)\n",
      "(256, 256, 256)\n",
      "(256, 256, 256)\n",
      "[[  -0.9375        0.            0.          122.45800018]\n",
      " [   0.            0.9375        0.          -78.72650146]\n",
      " [   0.            0.            1.          -49.06119919]\n",
      " [   0.            0.            0.            1.        ]]\n",
      "[[  -1.            0.            0.          130.45800018]\n",
      " [   0.            0.            1.          -86.72650146]\n",
      " [   0.           -1.            0.          158.93880081]\n",
      " [   0.            0.            0.            1.        ]]\n",
      "[[  -1.            0.            0.          130.45800781]\n",
      " [   0.            0.            1.          -86.72650146]\n",
      " [   0.           -1.            0.          158.938797  ]\n",
      " [   0.            0.            0.            1.        ]]\n",
      "[[  -1.           -0.           -0.          130.45800781]\n",
      " [  -0.           -0.           -1.          158.938797  ]\n",
      " [   0.            1.            0.           86.72650146]\n",
      " [   0.            0.            0.            1.        ]]\n"
     ]
    }
   ],
   "source": [
    "les_img = nib.load(les_file)\n",
    "les_img.dataobj\n",
    "seg_img = nib.load(seg_file)\n",
    "seg_img.dataobj\n",
    "gm_img = nib.load(gm_file)\n",
    "gm_img.dataobj\n",
    "\n",
    "les_data = les_img.get_data()\n",
    "print les_data.shape\n",
    "seg_data = seg_img.get_data()\n",
    "print seg_data.shape\n",
    "gm_data = gm_img.get_data()\n",
    "print gm_data.shape\n",
    "\n",
    "les_affine = les_img.get_affine()\n",
    "print les_affine\n",
    "gm_affine = gm_img.get_affine()\n",
    "print gm_affine\n",
    "seg_affine = seg_img.get_affine()\n",
    "print seg_affine\n",
    "inv_seg_affine = np.linalg.inv(seg_affine)\n",
    "print inv_seg_affine"
   ]
  },
  {
   "cell_type": "markdown",
   "metadata": {},
   "source": [
    "## set labels for coordinates"
   ]
  },
  {
   "cell_type": "code",
   "execution_count": 312,
   "metadata": {
    "collapsed": false
   },
   "outputs": [],
   "source": [
    "#lesion labels\n",
    "les_labels, n_les_labels = label(les_data==[1])\n",
    "\n",
    "#segmentation - brainstem labels\n",
    "seg_brainstem_labels, n_seg_brainstem_labels = label(seg_data==[16])\n",
    "seg_lcerebellumcortex_labels, n_seg_lcerebellumcortex_labels = label(seg_data==[8])\n",
    "seg_rcerebellumcortex_labels, n_seg_rcerebellumcortex_labels = label(seg_data==[47])\n",
    "seg_lcerebellumwm_labels, n_seg_lcerebellumwm_labels = label(seg_data==[7])\n",
    "seg_rcerebellumwm_labels, n_seg_rcerebellumwm_labels = label(seg_data==[46])\n",
    "\n",
    "#segmentation - lateral ventricle labels\n",
    "seg_llv_labels, n_seg_llv_labels = label(seg_data==[4])\n",
    "seg_rlv_labels, n_seg_rlv_labels = label(seg_data==[43])\n",
    "\n",
    "#gm labels\n",
    "gm_lh_labels, n_gm_lh_labels = label(gm_data==3)\n",
    "gm_rh_labels, n_gm_rh_labels = label(gm_data==42)"
   ]
  },
  {
   "cell_type": "markdown",
   "metadata": {},
   "source": [
    "## debugging tools for labels"
   ]
  },
  {
   "cell_type": "code",
   "execution_count": 313,
   "metadata": {
    "collapsed": false
   },
   "outputs": [
    {
     "name": "stdout",
     "output_type": "stream",
     "text": [
      "17\n",
      "1\n",
      "37\n",
      "2\n",
      "[9818227     326      77    4141      23      94      94      57      39\n",
      "    5620     793      79     133     174     384      29      37      73]\n",
      "[16766117    11099]\n",
      "[16537293   239875        1        1        1        1        1        1\n",
      "        1        1        2        1        1        1        1        1\n",
      "        6        2        4        2        1        1        1       12\n",
      "        1        1        2]\n",
      "[16771052     5845      319]\n"
     ]
    }
   ],
   "source": [
    "print n_les_labels #prints number of lesion labels\n",
    "\n",
    "print n_seg_brainstem_labels #prints number of labels in brainstem\n",
    "\n",
    "print n_gm_lh_labels #prints number of labels in gray matter\n",
    "\n",
    "print n_seg_llv_labels #prints number of labels in ventricle\n",
    "\n",
    "print np.bincount(les_labels.ravel()) #prints volumes of lesions\n",
    "\n",
    "print np.bincount(seg_lcerebellumwm_labels.ravel()) #prints volume of left cerebellum white matter\n",
    "\n",
    "print np.bincount(gm_rh_labels.ravel()) #prints volume of left hemisphere gray matter\n",
    "\n",
    "print np.bincount(seg_llv_labels.ravel()) #prints volume of left hemisphere ventricle"
   ]
  },
  {
   "cell_type": "markdown",
   "metadata": {},
   "source": [
    "## Function that gets coordinates from labels"
   ]
  },
  {
   "cell_type": "code",
   "execution_count": 314,
   "metadata": {
    "collapsed": false
   },
   "outputs": [],
   "source": [
    "def get_label_coord(labels,num_labels):\n",
    "    all_label_coords = []\n",
    "    if num_labels >= 1:\n",
    "        for count in range(1, num_labels+1):\n",
    "            cur_label_coords = []\n",
    "            x,y,z = np.nonzero(labels==count)\n",
    "            for count2 in range(len(x)):\n",
    "                cur_coord = [x[count2],y[count2],z[count2]]\n",
    "                cur_label_coords.append(cur_coord)\n",
    "            all_label_coords.append(cur_label_coords)\n",
    "    else:\n",
    "        x,y,z = np.nonzero(labels==1)\n",
    "        for count in range(len(x)):\n",
    "            all_label_coords.append([x[count],y[count],z[count]])\n",
    "    #for count in range(nlabels):\n",
    "    #    print \"lesion #\", count+1, \"\", all_les_coords[count]\n",
    "    #    print \"\"\n",
    "    return all_label_coords"
   ]
  },
  {
   "cell_type": "markdown",
   "metadata": {},
   "source": [
    "## Function that converts coordinates to real space"
   ]
  },
  {
   "cell_type": "code",
   "execution_count": 315,
   "metadata": {
    "collapsed": true
   },
   "outputs": [],
   "source": [
    "def get_rs_coord(coordinates,affine):\n",
    "    all_rs_coords = []\n",
    "    for count in range(len(coordinates)):\n",
    "        cur_rs_coords = []\n",
    "        for count2 in range(len(coordinates[count])):\n",
    "            rs_coord = np.dot(affine, [coordinates[count][count2][0],\n",
    "                                           coordinates[count][count2][1], \n",
    "                                           coordinates[count][count2][2],\n",
    "                                           1])\n",
    "            rs_coord_noone = [rs_coord[0],rs_coord[1],rs_coord[2]] #raw float\n",
    "            #rs_coord_noone = [round(rs_coord[0],2),round(rs_coord[1],2),round(rs_coord[2],2)] #two decimal float\n",
    "            #rs_coord_noone = [int(rs_coord[0]),int(rs_coord[1]),int(rs_coord[2])] #integers\n",
    "            cur_rs_coords.append(rs_coord_noone)\n",
    "        all_rs_coords.append(cur_rs_coords)\n",
    "    #for count in range(nlabels):\n",
    "    #    print \"lesion #\", count+1, \"\", all_rs_coords[count]\n",
    "    #    print \"\"\n",
    "    return all_rs_coords"
   ]
  },
  {
   "cell_type": "markdown",
   "metadata": {},
   "source": [
    "## Function that converts coordinates to segmentation file coordinates"
   ]
  },
  {
   "cell_type": "code",
   "execution_count": 316,
   "metadata": {
    "collapsed": true
   },
   "outputs": [],
   "source": [
    "def get_seg_coord(coordinates):\n",
    "    all_seg_coords = []\n",
    "    for count in range(len(coordinates)):\n",
    "        cur_seg_coords = []\n",
    "        for count2 in range(len(coordinates[count])):\n",
    "            seg_coord = np.dot(inv_seg_affine, [coordinates[count][count2][0],\n",
    "                                                coordinates[count][count2][1], \n",
    "                                                coordinates[count][count2][2],\n",
    "                                                1])\n",
    "            #seg_coord_noone = [seg_coord[0],seg_coord[1],seg_coord[2]] #raw float\n",
    "            #seg_coord_noone = [round(seg_coord[0],2),round(seg_coord[1],2),round(seg_coord[2],2)] #two decimal float\n",
    "            seg_coord_noone = [int(seg_coord[0]),int(seg_coord[1]),int(seg_coord[2])] #integers\n",
    "            cur_seg_coords.append(seg_coord_noone)\n",
    "        all_seg_coords.append(cur_seg_coords)\n",
    "    #for count in range(nlabels):\n",
    "    #    print \"lesion #\", count+1, \"\", all_seg_coords[count]\n",
    "    #    print \"\"\n",
    "    return all_seg_coords"
   ]
  },
  {
   "cell_type": "markdown",
   "metadata": {},
   "source": [
    "## Generate midbrain coordinates into a variable"
   ]
  },
  {
   "cell_type": "code",
   "execution_count": 317,
   "metadata": {
    "collapsed": false
   },
   "outputs": [
    {
     "name": "stdout",
     "output_type": "stream",
     "text": [
      "5\n"
     ]
    }
   ],
   "source": [
    "bs = get_label_coord(seg_brainstem_labels,n_seg_brainstem_labels)\n",
    "lcc = get_label_coord(seg_lcerebellumcortex_labels,n_seg_lcerebellumcortex_labels)\n",
    "lcw = get_label_coord(seg_lcerebellumwm_labels,n_seg_lcerebellumwm_labels)\n",
    "rcc = get_label_coord(seg_rcerebellumcortex_labels,n_seg_rcerebellumcortex_labels)\n",
    "rcw = get_label_coord(seg_rcerebellumwm_labels,n_seg_rcerebellumwm_labels)\n",
    "\n",
    "midbrain = []\n",
    "\n",
    "if len(bs) != 1:\n",
    "    midbrain.append(bs[1])\n",
    "else:\n",
    "    midbrain.append(bs[0])\n",
    "\n",
    "if len(lcc) != 1:\n",
    "    midbrain.append(lcc[1])\n",
    "else:\n",
    "    midbrain.append(lcc[0])\n",
    "\n",
    "if len(lcw) != 1:\n",
    "    midbrain.append(lcw[1])\n",
    "else:\n",
    "    midbrain.append(lcw[0])\n",
    "\n",
    "if len(rcc) != 1:\n",
    "    midbrain.append(rcc[1])\n",
    "else:\n",
    "    midbrain.append(rcc[0])\n",
    "\n",
    "if len(rcw) != 1:\n",
    "    midbrain.append(rcw[1])\n",
    "else:\n",
    "    midbrain.append(rcw[0])\n",
    "\n",
    "print len(midbrain)\n",
    "\n"
   ]
  },
  {
   "cell_type": "markdown",
   "metadata": {},
   "source": [
    "## Generate lesion coordinates into a variable"
   ]
  },
  {
   "cell_type": "code",
   "execution_count": 318,
   "metadata": {
    "collapsed": false
   },
   "outputs": [
    {
     "data": {
      "text/plain": [
       "'\\nprint len(lesions)\\nprint lesions_seg[0][1]\\nprint lesions_les[7]\\nprint lesions_seg[7]\\nprint lesions_les[7][39]\\nprint lesions_seg[7][39]\\n'"
      ]
     },
     "execution_count": 318,
     "metadata": {},
     "output_type": "execute_result"
    }
   ],
   "source": [
    "lesions_les = get_label_coord(les_labels,n_les_labels)\n",
    "lesions = get_seg_coord(get_rs_coord(lesions_les,les_affine))\n",
    "lesions_seg = lesions\n",
    "\"\"\"\n",
    "print len(lesions)\n",
    "print lesions_seg[0][1]\n",
    "print lesions_les[7]\n",
    "print lesions_seg[7]\n",
    "print lesions_les[7][39]\n",
    "print lesions_seg[7][39]\n",
    "\"\"\""
   ]
  },
  {
   "cell_type": "markdown",
   "metadata": {},
   "source": [
    "## Generate gray matter coordinates into a variable"
   ]
  },
  {
   "cell_type": "code",
   "execution_count": 319,
   "metadata": {
    "collapsed": false
   },
   "outputs": [
    {
     "name": "stdout",
     "output_type": "stream",
     "text": [
      "2\n"
     ]
    }
   ],
   "source": [
    "gm = []\n",
    "lhcoord = get_label_coord(gm_lh_labels,n_gm_lh_labels)\n",
    "rhcoord = get_label_coord(gm_rh_labels,n_gm_rh_labels)\n",
    "lhcoord_seg = get_seg_coord(get_rs_coord(lhcoord,gm_affine))\n",
    "rhcoord_seg = get_seg_coord(get_rs_coord(rhcoord,gm_affine))\n",
    "\n",
    "if len(lhcoord_seg) != 1:\n",
    "    gm.append(lhcoord_seg[1])\n",
    "else:\n",
    "    gm.append(lhcoord_seg[0])\n",
    "if len(rhcoord_seg) != 1:\n",
    "    gm.append(rhcoord_seg[1])\n",
    "else:\n",
    "    gm.append(rhcoord_seg[0])\n",
    "\n",
    "print len(gm)"
   ]
  },
  {
   "cell_type": "markdown",
   "metadata": {},
   "source": [
    "## Generate ventricular coordinates into a variable"
   ]
  },
  {
   "cell_type": "code",
   "execution_count": 320,
   "metadata": {
    "collapsed": false
   },
   "outputs": [
    {
     "name": "stdout",
     "output_type": "stream",
     "text": [
      "2\n"
     ]
    }
   ],
   "source": [
    "ventricles = []\n",
    "vlhcoord = get_label_coord(seg_llv_labels,n_seg_llv_labels)\n",
    "vrhcoord = get_label_coord(seg_rlv_labels,n_seg_rlv_labels)\n",
    "\n",
    "if len(vlhcoord) != 1:\n",
    "    ventricles.append(vlhcoord[1])\n",
    "else:\n",
    "    ventricles.append(vlhcoord[0])\n",
    "if len(vrhcoord) != 1:\n",
    "    ventricles.append(vrhcoord[1])\n",
    "else:\n",
    "    ventricles.append(vrhcoord[0])\n",
    "\n",
    "print len(ventricles)"
   ]
  },
  {
   "cell_type": "code",
   "execution_count": null,
   "metadata": {
    "collapsed": true
   },
   "outputs": [],
   "source": []
  },
  {
   "cell_type": "markdown",
   "metadata": {},
   "source": [
    "## Convert coordinates from nested lists to strings"
   ]
  },
  {
   "cell_type": "code",
   "execution_count": 321,
   "metadata": {
    "collapsed": true
   },
   "outputs": [],
   "source": [
    "def convert_coord_str(coordinates):\n",
    "    coord_str = []\n",
    "    for x in range(len(coordinates)):\n",
    "        str_int = []\n",
    "        for y in range(len(coordinates[x])):\n",
    "            str_int.append(str(coordinates[x][y]))\n",
    "        coord_str.append(str_int)\n",
    "    return coord_str\n",
    "\n",
    "lesions_str = convert_coord_str(lesions)\n",
    "midbrain_str = convert_coord_str(midbrain)"
   ]
  },
  {
   "cell_type": "markdown",
   "metadata": {},
   "source": [
    "## Infratentorial Check V2 "
   ]
  },
  {
   "cell_type": "code",
   "execution_count": 322,
   "metadata": {
    "collapsed": false
   },
   "outputs": [
    {
     "name": "stdout",
     "output_type": "stream",
     "text": [
      "1 subcortical\n",
      "2 subcortical\n",
      "3 subcortical\n",
      "4 subcortical\n",
      "5 infratentorial\n",
      "6 subcortical\n",
      "7 subcortical\n",
      "8 infratentorial\n",
      "9 subcortical\n",
      "10 subcortical\n",
      "11 subcortical\n",
      "12 subcortical\n",
      "13 subcortical\n",
      "14 subcortical\n",
      "15 infratentorial\n",
      "16 subcortical\n",
      "17 subcortical\n"
     ]
    }
   ],
   "source": [
    "les_type = []\n",
    "count = 0\n",
    "while count <= (len(lesions_str))-1:\n",
    "    lesion_type = \"\"\n",
    "    x = set(lesions_str[count])\n",
    "    count2 = 0\n",
    "    while count2 <= (len(midbrain_str))-1:\n",
    "        y = set(midbrain_str[count2])\n",
    "        testint = x.isdisjoint(y)\n",
    "        if testint == False:\n",
    "            count2 = len(midbrain_str)\n",
    "        count2 += 1\n",
    "    if testint == False:\n",
    "        lesion_type = \"infratentorial\"\n",
    "    else:\n",
    "        lesion_type = \"subcortical\"\n",
    "    print count+1, lesion_type\n",
    "    les_type.append(lesion_type)\n",
    "    count += 1"
   ]
  },
  {
   "cell_type": "markdown",
   "metadata": {},
   "source": [
    "## append results to a new list "
   ]
  },
  {
   "cell_type": "code",
   "execution_count": 323,
   "metadata": {
    "collapsed": false
   },
   "outputs": [
    {
     "name": "stdout",
     "output_type": "stream",
     "text": [
      "[['mseID', 'lesion number and type', 'number of subcortical lesions', 'number of juxtacortical lesions', 'number of periventricular lesions', 'number of infratentorial lesions', 'number of errors'], ['mse1474', [[1, 'subcortical'], [2, 'subcortical'], [3, 'subcortical'], [4, 'subcortical'], [5, 'infratentorial'], [6, 'subcortical'], [7, 'subcortical'], [8, 'infratentorial'], [9, 'subcortical'], [10, 'subcortical'], [11, 'subcortical'], [12, 'subcortical'], [13, 'subcortical'], [14, 'subcortical'], [15, 'infratentorial'], [16, 'subcortical'], [17, 'subcortical']], 14, 0, 0, 3, 0]]\n"
     ]
    }
   ],
   "source": [
    "results = []\n",
    "sub_count, inf_count, jux_count, per_count, err_count = 0, 0, 0, 0, 0\n",
    "for count in range(len(les_type)):\n",
    "    results.append([count+1, les_type[count]])\n",
    "    if les_type[count] == \"subcortical\":\n",
    "        sub_count += 1\n",
    "    elif les_type[count] == \"infratentorial\":\n",
    "        inf_count += 1\n",
    "    elif les_type[count] == \"juxtacortical\":\n",
    "        jux_count += 1\n",
    "    elif les_type[count] == \"periventricular\":\n",
    "        per_count += 1\n",
    "    else:\n",
    "        err_count += 1\n",
    "all_sub_results.append([subjects[0], \n",
    "                        results, \n",
    "                        sub_count, \n",
    "                        jux_count,\n",
    "                        per_count,\n",
    "                        inf_count, \n",
    "                        err_count]\n",
    "                      )\n",
    "print all_sub_results"
   ]
  },
  {
   "cell_type": "code",
   "execution_count": 324,
   "metadata": {
    "collapsed": false
   },
   "outputs": [
    {
     "name": "stdout",
     "output_type": "stream",
     "text": [
      "[107, 181, 94]\n",
      "[117, 178, 111]\n",
      "[159, 187, 91]\n"
     ]
    }
   ],
   "source": [
    "print lesions[4][4]\n",
    "print lesions[7][4]\n",
    "print lesions[14][8]"
   ]
  },
  {
   "cell_type": "markdown",
   "metadata": {},
   "source": [
    "# The debugging portions of the code"
   ]
  },
  {
   "cell_type": "markdown",
   "metadata": {},
   "source": [
    "## Infratentorial Lesion Check"
   ]
  },
  {
   "cell_type": "markdown",
   "metadata": {
    "collapsed": false
   },
   "source": [
    "les_type = []\n",
    "for count in range(len(lesions)):\n",
    "    lesion_type = \"\"\n",
    "    count4 = 0\n",
    "    if len(lesions[count]) <= 500:\n",
    "        for count2 in range(len(lesions[count])):\n",
    "            halt = \"\"\n",
    "            for count3 in range(len(midbrain)):\n",
    "                for count4 in range(len(midbrain[count3])):\n",
    "                    if lesions[count][count2] == midbrain[count3][count4]:\n",
    "                        lesion_type = \"infratentorial\"\n",
    "                        halt = \"stop\"\n",
    "                    if halt == \"stop\":\n",
    "                        continue\n",
    "                if halt == \"stop\":\n",
    "                    continue\n",
    "            if halt == \"stop\":\n",
    "                continue\n",
    "        if lesion_type == \"\":\n",
    "            lesion_type = \"subcortical\"\n",
    "        print count, \"done, type is:\", lesion_type\n",
    "        les_type.append(lesion_type)\n",
    "    else:\n",
    "        print \"skipped lesion number\", count, \"; too large\"\n",
    "        les_type.append(\"too large\")\n",
    "\n",
    "print les_type"
   ]
  },
  {
   "cell_type": "markdown",
   "metadata": {},
   "source": [
    "## Debugging function that finds range of values in brain lesion/segment"
   ]
  },
  {
   "cell_type": "code",
   "execution_count": 325,
   "metadata": {
    "collapsed": false
   },
   "outputs": [
    {
     "name": "stdout",
     "output_type": "stream",
     "text": [
      "114 - 145\n",
      "149 - 208\n",
      "92 - 123\n"
     ]
    }
   ],
   "source": [
    "test_x = [];test_y=[];test_z=[]\n",
    "for count in range(len(midbrain[0])):\n",
    "    test_x.append(midbrain[0][count][0])\n",
    "    test_y.append(midbrain[0][count][1])\n",
    "    test_z.append(midbrain[0][count][2])\n",
    "\n",
    "def range_coord(val_list):\n",
    "    min_val = min(val_list)\n",
    "    max_val = max(val_list)\n",
    "    print min_val,\"-\", max_val\n",
    "\n",
    "range_coord(test_x);range_coord(test_y);range_coord(test_z)"
   ]
  },
  {
   "cell_type": "markdown",
   "metadata": {},
   "source": [
    "## Debugging Function that searches for coordinates in any given brain lesion/segment"
   ]
  },
  {
   "cell_type": "code",
   "execution_count": 326,
   "metadata": {
    "collapsed": false
   },
   "outputs": [],
   "source": [
    "def search(coordinates,check_coord):\n",
    "    number = 0\n",
    "    for count in range(len(coordinates)):\n",
    "        if check_coord == coordinates[count]:\n",
    "            number = count + 1\n",
    "            print count\n",
    "    if number == 0:\n",
    "        print \"not available\"\n",
    "    else:\n",
    "        print \"available\"\n",
    "\n",
    "#search(midbrain[0],lesions[7][39])\n",
    "#search(midbrain[0],[144, 177, 100])\n",
    "#search(lesions[7],lesions[7][39])"
   ]
  },
  {
   "cell_type": "markdown",
   "metadata": {},
   "source": [
    "## Attempt at understanding \"any\" function"
   ]
  },
  {
   "cell_type": "code",
   "execution_count": 327,
   "metadata": {
    "collapsed": false
   },
   "outputs": [
    {
     "name": "stdout",
     "output_type": "stream",
     "text": [
      "<generator object <genexpr> at 0x7ff08bcb9320>\n"
     ]
    }
   ],
   "source": [
    "test = any(count for lesions[7][39] in midbrain)\n",
    "print test"
   ]
  },
  {
   "cell_type": "markdown",
   "metadata": {},
   "source": [
    "## Function that takes in coordinates for lesions, and outputs average; may not actually use this"
   ]
  },
  {
   "cell_type": "code",
   "execution_count": 328,
   "metadata": {
    "collapsed": true
   },
   "outputs": [],
   "source": [
    "def average_func(coordinates):\n",
    "    averages_all = []\n",
    "    for count in range(len(coordinates)):\n",
    "        averages = []\n",
    "        sumx=0;sumy=0;sumz=0\n",
    "        for count2 in range(len(coordinates[count])):\n",
    "            sumx += coordinates[count][count2][0]\n",
    "            sumy += coordinates[count][count2][1]\n",
    "            sumz += coordinates[count][count2][2]\n",
    "        average_x = sumx / len(coordinates[count])\n",
    "        average_y = sumy / len(coordinates[count])\n",
    "        average_z = sumz / len(coordinates[count])\n",
    "        averages = [average_x, average_y, average_z]\n",
    "        averages_all.append(averages)\n",
    "        #print count, averages\n",
    "    return averages_all"
   ]
  },
  {
   "cell_type": "code",
   "execution_count": 329,
   "metadata": {
    "collapsed": false
   },
   "outputs": [
    {
     "ename": "TypeError",
     "evalue": "get_rs_coord() takes exactly 2 arguments (1 given)",
     "output_type": "error",
     "traceback": [
      "\u001b[1;31m---------------------------------------------------------------------------\u001b[0m",
      "\u001b[1;31mTypeError\u001b[0m                                 Traceback (most recent call last)",
      "\u001b[1;32m<ipython-input-329-4cc395d72780>\u001b[0m in \u001b[0;36m<module>\u001b[1;34m()\u001b[0m\n\u001b[0;32m      1\u001b[0m \u001b[0maverage_les\u001b[0m \u001b[1;33m=\u001b[0m \u001b[0maverage_func\u001b[0m\u001b[1;33m(\u001b[0m\u001b[0mget_label_coord\u001b[0m\u001b[1;33m(\u001b[0m\u001b[0mles_labels\u001b[0m\u001b[1;33m,\u001b[0m \u001b[0mn_les_labels\u001b[0m\u001b[1;33m)\u001b[0m\u001b[1;33m)\u001b[0m\u001b[1;33m\u001b[0m\u001b[0m\n\u001b[1;32m----> 2\u001b[1;33m \u001b[0maverage_rs\u001b[0m \u001b[1;33m=\u001b[0m \u001b[0maverage_func\u001b[0m\u001b[1;33m(\u001b[0m\u001b[0mget_rs_coord\u001b[0m\u001b[1;33m(\u001b[0m\u001b[0mget_label_coord\u001b[0m\u001b[1;33m(\u001b[0m\u001b[0mles_labels\u001b[0m\u001b[1;33m,\u001b[0m \u001b[0mn_les_labels\u001b[0m\u001b[1;33m)\u001b[0m\u001b[1;33m)\u001b[0m\u001b[1;33m)\u001b[0m\u001b[1;33m\u001b[0m\u001b[0m\n\u001b[0m\u001b[0;32m      3\u001b[0m \u001b[0maverage_seg\u001b[0m \u001b[1;33m=\u001b[0m \u001b[0maverage_func\u001b[0m\u001b[1;33m(\u001b[0m\u001b[0mget_seg_coord\u001b[0m\u001b[1;33m(\u001b[0m\u001b[0mget_rs_coord\u001b[0m\u001b[1;33m(\u001b[0m\u001b[0mget_label_coord\u001b[0m\u001b[1;33m(\u001b[0m\u001b[0mles_labels\u001b[0m\u001b[1;33m,\u001b[0m \u001b[0mn_les_labels\u001b[0m\u001b[1;33m)\u001b[0m\u001b[1;33m)\u001b[0m\u001b[1;33m)\u001b[0m\u001b[1;33m)\u001b[0m\u001b[1;33m\u001b[0m\u001b[0m\n\u001b[0;32m      4\u001b[0m \u001b[1;33m\u001b[0m\u001b[0m\n\u001b[0;32m      5\u001b[0m \u001b[0mallcoord_les\u001b[0m \u001b[1;33m=\u001b[0m \u001b[0mget_label_coord\u001b[0m\u001b[1;33m(\u001b[0m\u001b[0mles_labels\u001b[0m\u001b[1;33m,\u001b[0m \u001b[0mn_les_labels\u001b[0m\u001b[1;33m)\u001b[0m\u001b[1;33m\u001b[0m\u001b[0m\n",
      "\u001b[1;31mTypeError\u001b[0m: get_rs_coord() takes exactly 2 arguments (1 given)"
     ]
    }
   ],
   "source": [
    "average_les = average_func(get_label_coord(les_labels, n_les_labels))\n",
    "average_rs = average_func(get_rs_coord(get_label_coord(les_labels, n_les_labels)))\n",
    "average_seg = average_func(get_seg_coord(get_rs_coord(get_label_coord(les_labels, n_les_labels))))\n",
    "\n",
    "allcoord_les = get_label_coord(les_labels, n_les_labels)\n",
    "allcoord_rs = get_rs_coord(get_label_coord(les_labels, n_les_labels))\n",
    "allcoord_seg = get_seg_coord(get_rs_coord(get_label_coord(les_labels, n_les_labels)))\n",
    "\n",
    "print average_les[0]\n",
    "print average_rs[0]\n",
    "print average_seg[0]\n",
    "print allcoord_les[0][0]\n",
    "print allcoord_rs[0][0]\n",
    "print allcoord_seg[0][0]\n",
    "\n",
    "print average_seg\n",
    "\n",
    "print lesions[8][20]"
   ]
  },
  {
   "cell_type": "code",
   "execution_count": null,
   "metadata": {
    "collapsed": true
   },
   "outputs": [],
   "source": []
  },
  {
   "cell_type": "markdown",
   "metadata": {},
   "source": [
    "## Debugging Coding Section"
   ]
  },
  {
   "cell_type": "code",
   "execution_count": null,
   "metadata": {
    "collapsed": false
   },
   "outputs": [],
   "source": [
    "realspace_coordinates = np.dot(les_affine, [average_les[0][0],\n",
    "                 average_les[0][1], \n",
    "                 average_les[0][2],\n",
    "                 1])\n",
    "average_les[0] \n",
    "realspace_coordinates\n",
    "from numpy.linalg import inv\n",
    "inv_seg_affine = np.linalg.inv(seg_affine)\n",
    "freesurfer_matrix = np.dot(inv_seg_affine, [realspace_coordinates[0],\n",
    "                                            realspace_coordinates[1], \n",
    "                                            realspace_coordinates[2],\n",
    "                                            1])\n",
    "print average_les[0]; print realspace_coordinates; print freesurfer_matrix\n",
    "\n",
    "print len(midbrain[0])\n",
    "\n",
    "les_type = []\n",
    "\n",
    "\"\"\"for test_count in range(len(lesions)):\n",
    "    for count in range(len(lesions[test_count])):\n",
    "        for count2 in range(len(midbrain)):\n",
    "            halt = \"\"\n",
    "            for count3 in range(len(midbrain[count2])):\n",
    "                if lesions[test_count][count] == midbrain[count2][count3]:\n",
    "                    inf_num += 1\n",
    "                    lesion_type = \"infratentorial\"\n",
    "                    halt = \"stop\"\n",
    "                    break\n",
    "            if halt == \"stop\":\n",
    "                break\n",
    "    print lesion_type\n",
    "if lesion_type == \"infratentorial\":\n",
    "    les_type.append(lesion_type)\n",
    "elif lesion_type == \"\":\n",
    "    les_type.append(\"subcortical\")\n",
    "print les_type\n",
    "print inf_num\n",
    "\"\"\""
   ]
  },
  {
   "cell_type": "code",
   "execution_count": null,
   "metadata": {
    "collapsed": false
   },
   "outputs": [],
   "source": []
  }
 ],
 "metadata": {
  "kernelspec": {
   "display_name": "Python 2",
   "language": "python",
   "name": "python2"
  },
  "language_info": {
   "codemirror_mode": {
    "name": "ipython",
    "version": 2
   },
   "file_extension": ".py",
   "mimetype": "text/x-python",
   "name": "python",
   "nbconvert_exporter": "python",
   "pygments_lexer": "ipython2",
   "version": "2.7.11"
  }
 },
 "nbformat": 4,
 "nbformat_minor": 0
}
