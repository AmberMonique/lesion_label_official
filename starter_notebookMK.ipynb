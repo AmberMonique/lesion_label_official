{
 "cells": [
  {
   "cell_type": "markdown",
   "metadata": {},
   "source": [
    "# The important parts of the code"
   ]
  },
  {
   "cell_type": "markdown",
   "metadata": {},
   "source": [
    "## Command imports"
   ]
  },
  {
   "cell_type": "code",
   "execution_count": 129,
   "metadata": {
    "collapsed": false
   },
   "outputs": [
    {
     "name": "stdout",
     "output_type": "stream",
     "text": [
      "Populating the interactive namespace from numpy and matplotlib\n"
     ]
    },
    {
     "name": "stderr",
     "output_type": "stream",
     "text": [
      "WARNING: pylab import has clobbered these variables: ['f', 'test']\n",
      "`%matplotlib` prevents importing * from pylab and numpy\n"
     ]
    }
   ],
   "source": [
    "%pylab inline \n",
    "import os\n",
    "import nibabel as nib\n",
    "import numpy as np\n",
    "import glob\n",
    "from scipy.ndimage import label\n",
    "from numpy.linalg import inv"
   ]
  },
  {
   "cell_type": "markdown",
   "metadata": {},
   "source": [
    "## Import mse IDs "
   ]
  },
  {
   "cell_type": "code",
   "execution_count": 130,
   "metadata": {
    "collapsed": false
   },
   "outputs": [
    {
     "name": "stdout",
     "output_type": "stream",
     "text": [
      "['mse1406']\n"
     ]
    }
   ],
   "source": [
    "#subjects = np.genfromtxt(\"pbr_baselines.txt\", dtype=str)\n",
    "subjects = [\"mse1406\"]\n",
    "all_sub_results = [[\"mseID\",\n",
    "                   \"lesion number and type\",      \n",
    "                   \"number of subcortical lesions\",\n",
    "                   \"number of juxtacortical lesions\",\n",
    "                   \"number of periventricular lesions\",\n",
    "                   \"number of infratentorial lesions\",\n",
    "                   \"number of errors\"]]\n",
    "print subjects[:5]"
   ]
  },
  {
   "cell_type": "markdown",
   "metadata": {},
   "source": [
    "## Set variables to lesion/segmentation files"
   ]
  },
  {
   "cell_type": "code",
   "execution_count": 131,
   "metadata": {
    "collapsed": false
   },
   "outputs": [
    {
     "name": "stdout",
     "output_type": "stream",
     "text": [
      "/data/henry7/PBR/subjects/mse1406/lesions_manual/ms172-mse1406-002-AX_T1_3D_IRSPGR/alignment_lesions.nii.gz\n",
      "/data/henry7/PBR/subjects/mse1406/masks/ms172-mse1406-002-AX_T1_3D_IRSPGR/segmentation.nii.gz\n",
      "/data/henry7/PBR/subjects/mse1406/masks/ms172-mse1406-002-AX_T1_3D_IRSPGR/segmentation.nii.gz /data/henry7/PBR/subjects/mse1406/lesions_manual/ms172-mse1406-002-AX_T1_3D_IRSPGR/alignment_lesions.nii.gz\n"
     ]
    }
   ],
   "source": [
    "for les_file in glob.glob(\"/data/henry7/PBR/subjects/%s/lesions_manual/*/alignment_lesions.nii.gz\" % subjects[0]):\n",
    "    print les_file\n",
    "for seg_file in glob.glob(\"/data/henry7/PBR/subjects/%s/masks/*/segmentation.nii.gz\" % subjects[0]):\n",
    "    print seg_file\n",
    "    \n",
    "print seg_file, les_file"
   ]
  },
  {
   "cell_type": "markdown",
   "metadata": {},
   "source": [
    "## Obtain affines "
   ]
  },
  {
   "cell_type": "code",
   "execution_count": 132,
   "metadata": {
    "collapsed": false
   },
   "outputs": [
    {
     "name": "stdout",
     "output_type": "stream",
     "text": [
      "(256, 256, 149)\n",
      "(256, 256, 256)\n",
      "[[  -0.9375        0.            0.          121.8730011 ]\n",
      " [   0.            0.9375        0.          -86.33650208]\n",
      " [   0.            0.            1.          -60.81729889]\n",
      " [   0.            0.            0.            1.        ]]\n",
      "[[  -1.            0.            0.          129.8730011 ]\n",
      " [   0.            0.            1.          -94.33650208]\n",
      " [   0.           -1.            0.          157.18270874]\n",
      " [   0.            0.            0.            1.        ]]\n",
      "[[  -1.           -0.           -0.          129.8730011 ]\n",
      " [  -0.           -0.           -1.          157.18270874]\n",
      " [   0.            1.            0.           94.33650208]\n",
      " [   0.            0.            0.            1.        ]]\n"
     ]
    }
   ],
   "source": [
    "les_img = nib.load(les_file)\n",
    "les_img.dataobj\n",
    "seg_img = nib.load(seg_file)\n",
    "seg_img.dataobj\n",
    "\n",
    "les_data = les_img.get_data()\n",
    "print les_data.shape\n",
    "seg_data = seg_img.get_data()\n",
    "print seg_data.shape\n",
    "\n",
    "les_affine = les_img.get_affine()\n",
    "print les_affine\n",
    "seg_affine = seg_img.get_affine()\n",
    "print seg_affine\n",
    "inv_seg_affine = np.linalg.inv(seg_affine)\n",
    "print inv_seg_affine"
   ]
  },
  {
   "cell_type": "markdown",
   "metadata": {},
   "source": [
    "## set labels for coordinates"
   ]
  },
  {
   "cell_type": "code",
   "execution_count": 133,
   "metadata": {
    "collapsed": true
   },
   "outputs": [],
   "source": [
    "#lesion labels\n",
    "les_labels, n_les_labels = label(les_data==[1])\n",
    "\n",
    "#segmentation labels\n",
    "seg_brainstem_labels, n_seg_brainstem_labels = label(seg_data==[16])\n",
    "seg_lcerebellumcortex_labels, n_seg_lcerebellumcortex_labels = label(seg_data==[8])\n",
    "seg_rcerebellumcortex_labels, n_seg_rcerebellumcortex_labels = label(seg_data==[47])\n",
    "seg_lcerebellumwm_labels, n_seg_lcerebellumwm_labels = label(seg_data==[7])\n",
    "seg_rcerebellumwm_labels, n_seg_rcerebellumwm_labels = label(seg_data==[46])"
   ]
  },
  {
   "cell_type": "markdown",
   "metadata": {},
   "source": [
    "## debugging tools for labels"
   ]
  },
  {
   "cell_type": "code",
   "execution_count": 134,
   "metadata": {
    "collapsed": false
   },
   "outputs": [
    {
     "name": "stdout",
     "output_type": "stream",
     "text": [
      "17\n",
      "1\n",
      "[9762255     521     172     149      53      56      54     125      24\n",
      "      65      45     436      25      36     256      93      28     471]\n",
      "[16764422    12794]\n"
     ]
    }
   ],
   "source": [
    "print n_les_labels #prints number of lesion labels\n",
    "\n",
    "print n_seg_brainstem_labels #prints number of labels in brainstem\n",
    "\n",
    "print np.bincount(les_labels.ravel()) #prints volumes of lesions\n",
    "\n",
    "print np.bincount(seg_lcerebellumwm_labels.ravel()) #prints volume of left cerebellum white matter"
   ]
  },
  {
   "cell_type": "markdown",
   "metadata": {},
   "source": [
    "## Function that gets coordinates from labels"
   ]
  },
  {
   "cell_type": "code",
   "execution_count": 135,
   "metadata": {
    "collapsed": false
   },
   "outputs": [],
   "source": [
    "def get_label_coord(labels,num_labels):\n",
    "    all_label_coords = []\n",
    "    if num_labels >= 1:\n",
    "        for count in range(1, num_labels+1):\n",
    "            cur_label_coords = []\n",
    "            x,y,z = np.nonzero(labels==count)\n",
    "            for count2 in range(len(x)):\n",
    "                cur_coord = [x[count2],y[count2],z[count2]]\n",
    "                cur_label_coords.append(cur_coord)\n",
    "            all_label_coords.append(cur_label_coords)\n",
    "    else:\n",
    "        x,y,z = np.nonzero(labels==1)\n",
    "        for count in range(len(x)):\n",
    "            all_label_coords.append([x[count],y[count],z[count]])\n",
    "    #for count in range(nlabels):\n",
    "    #    print \"lesion #\", count+1, \"\", all_les_coords[count]\n",
    "    #    print \"\"\n",
    "    return all_label_coords"
   ]
  },
  {
   "cell_type": "markdown",
   "metadata": {},
   "source": [
    "## Function that converts coordinates to real space"
   ]
  },
  {
   "cell_type": "code",
   "execution_count": 136,
   "metadata": {
    "collapsed": true
   },
   "outputs": [],
   "source": [
    "def get_rs_coord(coordinates):\n",
    "    all_rs_coords = []\n",
    "    for count in range(len(coordinates)):\n",
    "        cur_rs_coords = []\n",
    "        for count2 in range(len(coordinates[count])):\n",
    "            rs_coord = np.dot(les_affine, [coordinates[count][count2][0],\n",
    "                                           coordinates[count][count2][1], \n",
    "                                           coordinates[count][count2][2],\n",
    "                                           1])\n",
    "            rs_coord_noone = [rs_coord[0],rs_coord[1],rs_coord[2]] #raw float\n",
    "            #rs_coord_noone = [round(rs_coord[0],2),round(rs_coord[1],2),round(rs_coord[2],2)] #two decimal float\n",
    "            #rs_coord_noone = [int(rs_coord[0]),int(rs_coord[1]),int(rs_coord[2])] #integers\n",
    "            cur_rs_coords.append(rs_coord_noone)\n",
    "        all_rs_coords.append(cur_rs_coords)\n",
    "    #for count in range(nlabels):\n",
    "    #    print \"lesion #\", count+1, \"\", all_rs_coords[count]\n",
    "    #    print \"\"\n",
    "    return all_rs_coords"
   ]
  },
  {
   "cell_type": "markdown",
   "metadata": {},
   "source": [
    "## Function that converts coordinates to segmentation file coordinates"
   ]
  },
  {
   "cell_type": "code",
   "execution_count": 137,
   "metadata": {
    "collapsed": true
   },
   "outputs": [],
   "source": [
    "def get_seg_coord(coordinates):\n",
    "    all_seg_coords = []\n",
    "    for count in range(len(coordinates)):\n",
    "        cur_seg_coords = []\n",
    "        for count2 in range(len(coordinates[count])):\n",
    "            seg_coord = np.dot(inv_seg_affine, [coordinates[count][count2][0],\n",
    "                                                coordinates[count][count2][1], \n",
    "                                                coordinates[count][count2][2],\n",
    "                                                1])\n",
    "            #seg_coord_noone = [seg_coord[0],seg_coord[1],seg_coord[2]] #raw float\n",
    "            #seg_coord_noone = [round(seg_coord[0],2),round(seg_coord[1],2),round(seg_coord[2],2)] #two decimal float\n",
    "            seg_coord_noone = [int(seg_coord[0]),int(seg_coord[1]),int(seg_coord[2])] #integers\n",
    "            cur_seg_coords.append(seg_coord_noone)\n",
    "        all_seg_coords.append(cur_seg_coords)\n",
    "    #for count in range(nlabels):\n",
    "    #    print \"lesion #\", count+1, \"\", all_seg_coords[count]\n",
    "    #    print \"\"\n",
    "    return all_seg_coords"
   ]
  },
  {
   "cell_type": "markdown",
   "metadata": {},
   "source": [
    "## Generate midbrain coordinates into a variable"
   ]
  },
  {
   "cell_type": "code",
   "execution_count": 138,
   "metadata": {
    "collapsed": false
   },
   "outputs": [
    {
     "name": "stdout",
     "output_type": "stream",
     "text": [
      "5\n"
     ]
    }
   ],
   "source": [
    "midbrain_int = []\n",
    "bs = get_label_coord(seg_brainstem_labels,n_seg_brainstem_labels)\n",
    "lcc = get_label_coord(seg_lcerebellumcortex_labels,n_seg_lcerebellumcortex_labels)\n",
    "lcw = get_label_coord(seg_lcerebellumwm_labels,n_seg_lcerebellumwm_labels)\n",
    "rcc = get_label_coord(seg_rcerebellumcortex_labels,n_seg_rcerebellumcortex_labels)\n",
    "rcw = get_label_coord(seg_rcerebellumwm_labels,n_seg_rcerebellumwm_labels)\n",
    "\n",
    "midbrain = []\n",
    "\n",
    "if len(bs) != 1:\n",
    "    midbrain.append(bs[1])\n",
    "else:\n",
    "    midbrain.append(bs[0])\n",
    "\n",
    "if len(lcc) != 1:\n",
    "    midbrain.append(lcc[1])\n",
    "else:\n",
    "    midbrain.append(lcc[0])\n",
    "\n",
    "if len(lcw) != 1:\n",
    "    midbrain.append(lcw[1])\n",
    "else:\n",
    "    midbrain.append(lcw[0])\n",
    "\n",
    "if len(rcc) != 1:\n",
    "    midbrain.append(rcc[1])\n",
    "else:\n",
    "    midbrain.append(rcc[0])\n",
    "\n",
    "if len(rcw) != 1:\n",
    "    midbrain.append(rcw[1])\n",
    "else:\n",
    "    midbrain.append(rcw[0])\n",
    "\n",
    "print len(midbrain)\n",
    "\n"
   ]
  },
  {
   "cell_type": "markdown",
   "metadata": {},
   "source": [
    "## Generate lesion coordinates into a variable"
   ]
  },
  {
   "cell_type": "code",
   "execution_count": 139,
   "metadata": {
    "collapsed": false
   },
   "outputs": [
    {
     "data": {
      "text/plain": [
       "'\\nprint len(lesions)\\nprint lesions_seg[0][1]\\nprint lesions_les[7]\\nprint lesions_seg[7]\\nprint lesions_les[7][39]\\nprint lesions_seg[7][39]\\n'"
      ]
     },
     "execution_count": 139,
     "metadata": {},
     "output_type": "execute_result"
    }
   ],
   "source": [
    "lesions = get_seg_coord(get_rs_coord(get_label_coord(les_labels,n_les_labels)))\n",
    "lesions_les = get_label_coord(les_labels,n_les_labels)\n",
    "lesions_seg = lesions\n",
    "\"\"\"\n",
    "print len(lesions)\n",
    "print lesions_seg[0][1]\n",
    "print lesions_les[7]\n",
    "print lesions_seg[7]\n",
    "print lesions_les[7][39]\n",
    "print lesions_seg[7][39]\n",
    "\"\"\""
   ]
  },
  {
   "cell_type": "markdown",
   "metadata": {},
   "source": [
    "## Infratentorial Lesion Check"
   ]
  },
  {
   "cell_type": "markdown",
   "metadata": {
    "collapsed": false
   },
   "source": [
    "les_type = []\n",
    "for count in range(len(lesions)):\n",
    "    lesion_type = \"\"\n",
    "    count4 = 0\n",
    "    if len(lesions[count]) <= 500:\n",
    "        for count2 in range(len(lesions[count])):\n",
    "            halt = \"\"\n",
    "            for count3 in range(len(midbrain)):\n",
    "                for count4 in range(len(midbrain[count3])):\n",
    "                    if lesions[count][count2] == midbrain[count3][count4]:\n",
    "                        lesion_type = \"infratentorial\"\n",
    "                        halt = \"stop\"\n",
    "                    if halt == \"stop\":\n",
    "                        continue\n",
    "                if halt == \"stop\":\n",
    "                    continue\n",
    "            if halt == \"stop\":\n",
    "                continue\n",
    "        if lesion_type == \"\":\n",
    "            lesion_type = \"subcortical\"\n",
    "        print count, \"done, type is:\", lesion_type\n",
    "        les_type.append(lesion_type)\n",
    "    else:\n",
    "        print \"skipped lesion number\", count, \"; too large\"\n",
    "        les_type.append(\"too large\")\n",
    "\n",
    "print les_type"
   ]
  },
  {
   "cell_type": "markdown",
   "metadata": {},
   "source": [
    "## Convert coordinates from nested lists to strings"
   ]
  },
  {
   "cell_type": "code",
   "execution_count": 140,
   "metadata": {
    "collapsed": true
   },
   "outputs": [],
   "source": [
    "def convert_coord_str(coordinates):\n",
    "    coord_str = []\n",
    "    for x in range(len(coordinates)):\n",
    "        str_int = []\n",
    "        for y in range(len(coordinates[x])):\n",
    "            str_int.append(str(coordinates[x][y]))\n",
    "        coord_str.append(str_int)\n",
    "    return coord_str\n",
    "\n",
    "lesions_str = convert_coord_str(lesions)\n",
    "midbrain_str = convert_coord_str(midbrain)"
   ]
  },
  {
   "cell_type": "markdown",
   "metadata": {},
   "source": [
    "## Infratentorial Check V2 "
   ]
  },
  {
   "cell_type": "code",
   "execution_count": 143,
   "metadata": {
    "collapsed": false
   },
   "outputs": [
    {
     "name": "stdout",
     "output_type": "stream",
     "text": [
      "1 subcortical\n",
      "2 subcortical\n",
      "3 subcortical\n",
      "4 subcortical\n",
      "5 subcortical\n",
      "6 subcortical\n",
      "7 subcortical\n",
      "8 subcortical\n",
      "9 infratentorial\n",
      "10 subcortical\n",
      "11 subcortical\n",
      "12 subcortical\n",
      "13 subcortical\n",
      "14 subcortical\n",
      "15 subcortical\n",
      "16 subcortical\n",
      "17 subcortical\n"
     ]
    }
   ],
   "source": [
    "les_type = []\n",
    "count = 0\n",
    "while count <= (len(lesions_str))-1:\n",
    "    lesion_type = \"\"\n",
    "    x = set(lesions_str[count])\n",
    "    count2 = 0\n",
    "    while count2 <= (len(midbrain_str))-1:\n",
    "        y = set(midbrain_str[count2])\n",
    "        testint = x.isdisjoint(y)\n",
    "        if testint == False:\n",
    "            count2 = len(midbrain_str)\n",
    "        count2 += 1\n",
    "    if testint == False:\n",
    "        lesion_type = \"infratentorial\"\n",
    "    else:\n",
    "        lesion_type = \"subcortical\"\n",
    "    print count+1, lesion_type\n",
    "    les_type.append(lesion_type)\n",
    "    count += 1"
   ]
  },
  {
   "cell_type": "markdown",
   "metadata": {},
   "source": [
    "## append results to a new list "
   ]
  },
  {
   "cell_type": "code",
   "execution_count": 144,
   "metadata": {
    "collapsed": false
   },
   "outputs": [
    {
     "name": "stdout",
     "output_type": "stream",
     "text": [
      "[['mseID', 'lesion number and type', 'number of subcortical lesions', 'number of juxtacortical lesions', 'number of periventricular lesions', 'number of infratentorial lesions', 'number of errors'], ['mse1406', [[1, 'subcortical'], [2, 'subcortical'], [3, 'subcortical'], [4, 'subcortical'], [5, 'subcortical'], [6, 'subcortical'], [7, 'subcortical'], [8, 'subcortical'], [9, 'infratentorial'], [10, 'subcortical'], [11, 'subcortical'], [12, 'subcortical'], [13, 'subcortical'], [14, 'subcortical'], [15, 'subcortical'], [16, 'subcortical'], [17, 'subcortical']], 16, 0, 0, 1, 0]]\n"
     ]
    }
   ],
   "source": [
    "results = []\n",
    "sub_count, inf_count, jux_count, per_count, err_count = 0, 0, 0, 0, 0\n",
    "for count in range(len(les_type)):\n",
    "    results.append([count+1, les_type[count],])\n",
    "    if les_type[count] == \"subcortical\":\n",
    "        sub_count += 1\n",
    "    elif les_type[count] == \"infratentorial\":\n",
    "        inf_count += 1\n",
    "    elif les_type[count] == \"juxtacortical\":\n",
    "        jux_count += 1\n",
    "    elif les_type[count] == \"periventricular\":\n",
    "        per_count += 1\n",
    "    else:\n",
    "        err_count += 1\n",
    "all_sub_results.append([subjects[0], \n",
    "                        results, \n",
    "                        sub_count, \n",
    "                        jux_count,\n",
    "                        per_count,\n",
    "                        inf_count, \n",
    "                        err_count]\n",
    "                      )\n",
    "print all_sub_results"
   ]
  },
  {
   "cell_type": "markdown",
   "metadata": {},
   "source": [
    "# The debugging portions of the code"
   ]
  },
  {
   "cell_type": "markdown",
   "metadata": {},
   "source": [
    "## Debugging function that finds range of values in brain lesion/segment"
   ]
  },
  {
   "cell_type": "code",
   "execution_count": 145,
   "metadata": {
    "collapsed": false
   },
   "outputs": [
    {
     "name": "stdout",
     "output_type": "stream",
     "text": [
      "113 - 147\n",
      "153 - 205\n",
      "91 - 120\n"
     ]
    }
   ],
   "source": [
    "test_x = [];test_y=[];test_z=[]\n",
    "for count in range(len(midbrain[0])):\n",
    "    test_x.append(midbrain[0][count][0])\n",
    "    test_y.append(midbrain[0][count][1])\n",
    "    test_z.append(midbrain[0][count][2])\n",
    "\n",
    "def range_coord(val_list):\n",
    "    min_val = min(val_list)\n",
    "    max_val = max(val_list)\n",
    "    print min_val,\"-\", max_val\n",
    "\n",
    "range_coord(test_x);range_coord(test_y);range_coord(test_z)"
   ]
  },
  {
   "cell_type": "markdown",
   "metadata": {},
   "source": [
    "## Debugging Function that searches for coordinates in any given brain lesion/segment"
   ]
  },
  {
   "cell_type": "code",
   "execution_count": 146,
   "metadata": {
    "collapsed": false
   },
   "outputs": [],
   "source": [
    "def search(coordinates,check_coord):\n",
    "    number = 0\n",
    "    for count in range(len(coordinates)):\n",
    "        if check_coord == coordinates[count]:\n",
    "            number = count + 1\n",
    "            print count\n",
    "    if number == 0:\n",
    "        print \"not available\"\n",
    "    else:\n",
    "        print \"available\"\n",
    "\n",
    "#search(midbrain[0],lesions[7][39])\n",
    "#search(midbrain[0],[144, 177, 100])\n",
    "#search(lesions[7],lesions[7][39])"
   ]
  },
  {
   "cell_type": "markdown",
   "metadata": {},
   "source": [
    "## Attempt at understanding \"any\" function"
   ]
  },
  {
   "cell_type": "code",
   "execution_count": 147,
   "metadata": {
    "collapsed": false
   },
   "outputs": [
    {
     "name": "stdout",
     "output_type": "stream",
     "text": [
      "<generator object <genexpr> at 0x7f591a47ec30>\n"
     ]
    }
   ],
   "source": [
    "test = any(count for lesions[7][39] in midbrain)\n",
    "print test"
   ]
  },
  {
   "cell_type": "markdown",
   "metadata": {},
   "source": [
    "## Function that takes in coordinates for lesions, and outputs average; may not actually use this"
   ]
  },
  {
   "cell_type": "code",
   "execution_count": 148,
   "metadata": {
    "collapsed": true
   },
   "outputs": [],
   "source": [
    "def average_func(coordinates):\n",
    "    averages_all = []\n",
    "    for count in range(len(coordinates)):\n",
    "        averages = []\n",
    "        sumx=0;sumy=0;sumz=0\n",
    "        for count2 in range(len(coordinates[count])):\n",
    "            sumx += coordinates[count][count2][0]\n",
    "            sumy += coordinates[count][count2][1]\n",
    "            sumz += coordinates[count][count2][2]\n",
    "        average_x = sumx / len(coordinates[count])\n",
    "        average_y = sumy / len(coordinates[count])\n",
    "        average_z = sumz / len(coordinates[count])\n",
    "        averages = [average_x, average_y, average_z]\n",
    "        averages_all.append(averages)\n",
    "        #print count, averages\n",
    "    return averages_all"
   ]
  },
  {
   "cell_type": "code",
   "execution_count": 149,
   "metadata": {
    "collapsed": false
   },
   "outputs": [
    {
     "name": "stdout",
     "output_type": "stream",
     "text": [
      "[86, 94, 93]\n",
      "[40.396873459477341, 2.3319240284515206, 32.794985179937733]\n",
      "[88, 124, 96]\n",
      "[79, 94, 96]\n",
      "[47.810501098632812, 1.7884979248046875, 35.182701110839844]\n",
      "[82, 122, 96]\n",
      "[[88, 124, 96], [99, 134, 79], [100, 133, 147], [101, 143, 62], [102, 151, 64], [108, 141, 158], [110, 156, 148], [115, 105, 141], [126, 193, 104], [136, 121, 108], [145, 141, 156], [144, 96, 132], [146, 131, 68], [150, 123, 90], [152, 138, 60], [155, 150, 153], [159, 154, 69]]\n",
      "[126, 193, 102]\n"
     ]
    }
   ],
   "source": [
    "average_les = average_func(get_label_coord(les_labels, n_les_labels))\n",
    "average_rs = average_func(get_rs_coord(get_label_coord(les_labels, n_les_labels)))\n",
    "average_seg = average_func(get_seg_coord(get_rs_coord(get_label_coord(les_labels, n_les_labels))))\n",
    "\n",
    "allcoord_les = get_label_coord(les_labels, n_les_labels)\n",
    "allcoord_rs = get_rs_coord(get_label_coord(les_labels, n_les_labels))\n",
    "allcoord_seg = get_seg_coord(get_rs_coord(get_label_coord(les_labels, n_les_labels)))\n",
    "\n",
    "print average_les[0]\n",
    "print average_rs[0]\n",
    "print average_seg[0]\n",
    "print allcoord_les[0][0]\n",
    "print allcoord_rs[0][0]\n",
    "print allcoord_seg[0][0]\n",
    "\n",
    "print average_seg\n",
    "\n",
    "print lesions[8][20]"
   ]
  },
  {
   "cell_type": "code",
   "execution_count": null,
   "metadata": {
    "collapsed": true
   },
   "outputs": [],
   "source": []
  },
  {
   "cell_type": "markdown",
   "metadata": {},
   "source": [
    "## Debugging Coding Section"
   ]
  },
  {
   "cell_type": "code",
   "execution_count": 150,
   "metadata": {
    "collapsed": false
   },
   "outputs": [
    {
     "name": "stdout",
     "output_type": "stream",
     "text": [
      "[86, 94, 93]\n",
      "[ 41.2480011    1.78849792  32.18270111   1.        ]\n",
      "[  88.625       125.00000763   96.125         1.        ]\n",
      "16685\n"
     ]
    },
    {
     "data": {
      "text/plain": [
       "'for test_count in range(len(lesions)):\\n    for count in range(len(lesions[test_count])):\\n        for count2 in range(len(midbrain)):\\n            halt = \"\"\\n            for count3 in range(len(midbrain[count2])):\\n                if lesions[test_count][count] == midbrain[count2][count3]:\\n                    inf_num += 1\\n                    lesion_type = \"infratentorial\"\\n                    halt = \"stop\"\\n                    break\\n            if halt == \"stop\":\\n                break\\n    print lesion_type\\nif lesion_type == \"infratentorial\":\\n    les_type.append(lesion_type)\\nelif lesion_type == \"\":\\n    les_type.append(\"subcortical\")\\nprint les_type\\nprint inf_num\\n'"
      ]
     },
     "execution_count": 150,
     "metadata": {},
     "output_type": "execute_result"
    }
   ],
   "source": [
    "realspace_coordinates = np.dot(les_affine, [average_les[0][0],\n",
    "                 average_les[0][1], \n",
    "                 average_les[0][2],\n",
    "                 1])\n",
    "average_les[0] \n",
    "realspace_coordinates\n",
    "from numpy.linalg import inv\n",
    "inv_seg_affine = np.linalg.inv(seg_affine)\n",
    "freesurfer_matrix = np.dot(inv_seg_affine, [realspace_coordinates[0],\n",
    "                                            realspace_coordinates[1], \n",
    "                                            realspace_coordinates[2],\n",
    "                                            1])\n",
    "print average_les[0]; print realspace_coordinates; print freesurfer_matrix\n",
    "\n",
    "print len(midbrain[0])\n",
    "\n",
    "les_type = []\n",
    "\n",
    "\"\"\"for test_count in range(len(lesions)):\n",
    "    for count in range(len(lesions[test_count])):\n",
    "        for count2 in range(len(midbrain)):\n",
    "            halt = \"\"\n",
    "            for count3 in range(len(midbrain[count2])):\n",
    "                if lesions[test_count][count] == midbrain[count2][count3]:\n",
    "                    inf_num += 1\n",
    "                    lesion_type = \"infratentorial\"\n",
    "                    halt = \"stop\"\n",
    "                    break\n",
    "            if halt == \"stop\":\n",
    "                break\n",
    "    print lesion_type\n",
    "if lesion_type == \"infratentorial\":\n",
    "    les_type.append(lesion_type)\n",
    "elif lesion_type == \"\":\n",
    "    les_type.append(\"subcortical\")\n",
    "print les_type\n",
    "print inf_num\n",
    "\"\"\""
   ]
  },
  {
   "cell_type": "code",
   "execution_count": null,
   "metadata": {
    "collapsed": false
   },
   "outputs": [],
   "source": []
  }
 ],
 "metadata": {
  "kernelspec": {
   "display_name": "Python 2",
   "language": "python",
   "name": "python2"
  },
  "language_info": {
   "codemirror_mode": {
    "name": "ipython",
    "version": 2
   },
   "file_extension": ".py",
   "mimetype": "text/x-python",
   "name": "python",
   "nbconvert_exporter": "python",
   "pygments_lexer": "ipython2",
   "version": "2.7.11"
  }
 },
 "nbformat": 4,
 "nbformat_minor": 0
}
