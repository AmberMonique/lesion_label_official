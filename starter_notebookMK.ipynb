{
 "cells": [
  {
   "cell_type": "markdown",
   "metadata": {},
   "source": [
    "### MAHIR Imports"
   ]
  },
  {
   "cell_type": "markdown",
   "metadata": {
    "collapsed": false
   },
   "source": [
    "%pylab inline \n",
    "import os\n",
    "import nibabel as nib\n",
    "import numpy as np\n",
    "from glob import glob\n",
    "from scipy.ndimage import label"
   ]
  },
  {
   "cell_type": "markdown",
   "metadata": {},
   "source": [
    "##### Load the text file with mse ids"
   ]
  },
  {
   "cell_type": "markdown",
   "metadata": {
    "collapsed": false
   },
   "source": [
    "subjects = np.genfromtxt(\"pbr_baselines.txt\", dtype=str)\n",
    "print subjects[:5]"
   ]
  },
  {
   "cell_type": "markdown",
   "metadata": {},
   "source": [
    "##### define some paths to data"
   ]
  },
  {
   "cell_type": "markdown",
   "metadata": {
    "collapsed": true
   },
   "source": [
    "base_dir = \"/data/henry7/PBR/subjects/\"\n",
    "template = \"{base_dir}/{mseid}/lesions_manual/*/alignment_lesions.nii.gz\""
   ]
  },
  {
   "cell_type": "markdown",
   "metadata": {},
   "source": [
    "## figure out a way to fill the template and glob for the file you need"
   ]
  },
  {
   "cell_type": "markdown",
   "metadata": {
    "collapsed": false
   },
   "source": [
    "lesion_file = #fill the template with the first subject, subjects[0]"
   ]
  },
  {
   "cell_type": "markdown",
   "metadata": {},
   "source": [
    "## Load an image"
   ]
  },
  {
   "cell_type": "markdown",
   "metadata": {
    "collapsed": true
   },
   "source": [
    "img = nib.load(lesion_file)\n",
    "data, affine = nib.get_data(), nib.get_affine()"
   ]
  },
  {
   "cell_type": "markdown",
   "metadata": {},
   "source": [
    "## Number each lesion "
   ]
  },
  {
   "cell_type": "markdown",
   "metadata": {
    "collapsed": true
   },
   "source": [
    "labels, nlabels = label(data==1)"
   ]
  },
  {
   "cell_type": "markdown",
   "metadata": {},
   "source": [
    "## Get x,y,z coordinates for each lesion"
   ]
  },
  {
   "cell_type": "markdown",
   "metadata": {
    "collapsed": true
   },
   "source": [
    "np.nonzero"
   ]
  },
  {
   "cell_type": "markdown",
   "metadata": {},
   "source": [
    "## Tranform coordinates to world space"
   ]
  },
  {
   "cell_type": "markdown",
   "metadata": {
    "collapsed": false
   },
   "source": [
    "np.dot([x,y,z,1], aff) #order might be switched "
   ]
  },
  {
   "cell_type": "code",
   "execution_count": 355,
   "metadata": {
    "collapsed": false
   },
   "outputs": [
    {
     "name": "stdout",
     "output_type": "stream",
     "text": [
      "Populating the interactive namespace from numpy and matplotlib\n"
     ]
    }
   ],
   "source": [
    "%pylab inline \n",
    "import os\n",
    "import nibabel as nib\n",
    "import numpy as np\n",
    "from glob import glob\n",
    "from scipy.ndimage import label\n",
    "from numpy.linalg import inv"
   ]
  },
  {
   "cell_type": "code",
   "execution_count": 356,
   "metadata": {
    "collapsed": false
   },
   "outputs": [
    {
     "name": "stdout",
     "output_type": "stream",
     "text": [
      "['mse1328' 'mse1334' 'mse1337' 'mse1343' 'mse1349']\n"
     ]
    }
   ],
   "source": [
    "subjects = np.genfromtxt(\"pbr_baselines.txt\", dtype=str)\n",
    "print subjects[:5]"
   ]
  },
  {
   "cell_type": "code",
   "execution_count": 357,
   "metadata": {
    "collapsed": false
   },
   "outputs": [],
   "source": [
    "import glob\n",
    "import nibabel as nib"
   ]
  },
  {
   "cell_type": "code",
   "execution_count": 358,
   "metadata": {
    "collapsed": false
   },
   "outputs": [],
   "source": [
    "ms1328 = \"/data/henry7/PBR/subjects/mse1328/lesions_manual/ms56-mse1328-002-AX_T1_3D_IRSPGR/alignment_lesions.nii.gz\""
   ]
  },
  {
   "cell_type": "code",
   "execution_count": 359,
   "metadata": {
    "collapsed": false
   },
   "outputs": [
    {
     "name": "stdout",
     "output_type": "stream",
     "text": [
      "/data/henry7/PBR/subjects/mse1328/lesions_manual/ms56-mse1328-002-AX_T1_3D_IRSPGR/alignment_lesions.nii.gz\n",
      "/data/henry7/PBR/subjects/mse1328/masks/ms56-mse1328-002-AX_T1_3D_IRSPGR/segmentation.nii.gz\n"
     ]
    }
   ],
   "source": [
    "for les_file_1328 in glob.glob(\"/data/henry7/PBR/subjects/mse1328/lesions_manual/*/alignment_lesions.nii.gz\"):\n",
    "    print les_file_1328\n",
    "for seg_file_1328 in glob.glob(\"/data/henry7/PBR/subjects/mse1328/masks/*/segmentation.nii.gz\"):\n",
    "    print seg_file_1328"
   ]
  },
  {
   "cell_type": "code",
   "execution_count": 360,
   "metadata": {
    "collapsed": false
   },
   "outputs": [
    {
     "data": {
      "text/plain": [
       "<nibabel.arrayproxy.ArrayProxy at 0x7f1c267e9c90>"
      ]
     },
     "execution_count": 360,
     "metadata": {},
     "output_type": "execute_result"
    }
   ],
   "source": [
    "les_img1328 = nib.load(les_file_1328)\n",
    "les_img1328.dataobj\n",
    "seg_img1328 = nib.load(seg_file_1328)\n",
    "seg_img1328.dataobj"
   ]
  },
  {
   "cell_type": "code",
   "execution_count": 361,
   "metadata": {
    "collapsed": false
   },
   "outputs": [
    {
     "name": "stdout",
     "output_type": "stream",
     "text": [
      "(256, 256, 150)\n",
      "(256, 256, 256)\n"
     ]
    }
   ],
   "source": [
    "les_data1328 = les_img1328.get_data()\n",
    "print les_data1328.shape\n",
    "seg_data1328 = seg_img1328.get_data()\n",
    "print seg_data1328.shape"
   ]
  },
  {
   "cell_type": "code",
   "execution_count": 362,
   "metadata": {
    "collapsed": false
   },
   "outputs": [
    {
     "name": "stdout",
     "output_type": "stream",
     "text": [
      "[[  -0.9375        0.            0.          123.6289978 ]\n",
      " [   0.            0.9375        0.          -93.36050415]\n",
      " [   0.            0.            1.          -44.42710114]\n",
      " [   0.            0.            0.            1.        ]]\n",
      "[[  -1.            0.            0.          131.6289978 ]\n",
      " [   0.            0.            1.         -101.36050415]\n",
      " [   0.           -1.            0.          173.57290649]\n",
      " [   0.            0.            0.            1.        ]]\n",
      "[[  -1.           -0.           -0.          131.6289978 ]\n",
      " [  -0.           -0.           -1.          173.57290649]\n",
      " [   0.            1.            0.          101.36050415]\n",
      " [   0.            0.            0.            1.        ]]\n"
     ]
    }
   ],
   "source": [
    "les_affine1328 = les_img1328.get_affine()\n",
    "print les_affine1328\n",
    "seg_affine1328 = seg_img1328.get_affine()\n",
    "print seg_affine1328\n",
    "inv_seg_affine_1328 = np.linalg.inv(seg_affine1328)\n",
    "print inv_seg_affine_1328"
   ]
  },
  {
   "cell_type": "code",
   "execution_count": 363,
   "metadata": {
    "collapsed": false
   },
   "outputs": [],
   "source": [
    "les_labels, nles_labels = label(les_data1328==[1])\n",
    "seg_les_labels, seg_nles_labels = label(seg_data1328==[4])"
   ]
  },
  {
   "cell_type": "code",
   "execution_count": 364,
   "metadata": {
    "collapsed": false
   },
   "outputs": [
    {
     "data": {
      "text/plain": [
       "11"
      ]
     },
     "execution_count": 364,
     "metadata": {},
     "output_type": "execute_result"
    }
   ],
   "source": [
    "nles_labels"
   ]
  },
  {
   "cell_type": "code",
   "execution_count": 365,
   "metadata": {
    "collapsed": false
   },
   "outputs": [
    {
     "data": {
      "text/plain": [
       "2"
      ]
     },
     "execution_count": 365,
     "metadata": {},
     "output_type": "execute_result"
    }
   ],
   "source": [
    "seg_nles_labels"
   ]
  },
  {
   "cell_type": "code",
   "execution_count": 366,
   "metadata": {
    "collapsed": false
   },
   "outputs": [
    {
     "name": "stdout",
     "output_type": "stream",
     "text": [
      "[ 0  1  2  3  4  5  6  7  8  9 10 11]\n"
     ]
    }
   ],
   "source": [
    "n = np.unique(les_labels)\n",
    "print n"
   ]
  },
  {
   "cell_type": "code",
   "execution_count": 367,
   "metadata": {
    "collapsed": false
   },
   "outputs": [
    {
     "data": {
      "text/plain": [
       "array([9829648,      69,     105,      54,      29,      69,      61,\n",
       "            36,      47,     125,     111,      46])"
      ]
     },
     "execution_count": 367,
     "metadata": {},
     "output_type": "execute_result"
    }
   ],
   "source": [
    "np.bincount(les_labels.ravel())"
   ]
  },
  {
   "cell_type": "code",
   "execution_count": 368,
   "metadata": {
    "collapsed": false
   },
   "outputs": [],
   "source": [
    "def get_lesion_coord():\n",
    "    all_les_coords = []\n",
    "    for count in range(1, nles_labels+1):\n",
    "        cur_les_coords = []\n",
    "        x,y,z = np.nonzero(les_labels==count)\n",
    "        for count2 in range(len(x)):\n",
    "            cur_coord = [x[count2],y[count2],z[count2]]\n",
    "            cur_les_coords.append(cur_coord)\n",
    "        all_les_coords.append(cur_les_coords)\n",
    "    #for count in range(nlabels):\n",
    "    #    print \"lesion #\", count+1, \"\", all_les_coords[count]\n",
    "    #    print \"\"\n",
    "    return all_les_coords"
   ]
  },
  {
   "cell_type": "code",
   "execution_count": 369,
   "metadata": {
    "collapsed": true
   },
   "outputs": [],
   "source": [
    "def get_rs_coord(coordinates):\n",
    "    all_rs_coords = []\n",
    "    for count in range(len(coordinates)):\n",
    "        cur_rs_coords = []\n",
    "        for count2 in range(len(coordinates[count])):\n",
    "            rs_coord = np.dot(les_affine1328, [coordinates[count][count2][0],\n",
    "                                               coordinates[count][count2][1], \n",
    "                                               coordinates[count][count2][2],\n",
    "                                               1])\n",
    "            #rs_coord_noone = [rs_coord[0],rs_coord[1],rs_coord[2]] #raw float\n",
    "            rs_coord_noone = [round(rs_coord[0],2),round(rs_coord[1],2),round(rs_coord[2],2)] #two decimal float\n",
    "            #rs_coord_noone = [int(rs_coord[0]),int(rs_coord[1]),int(rs_coord[2])] #integers\n",
    "            cur_rs_coords.append(rs_coord_noone)\n",
    "        all_rs_coords.append(cur_rs_coords)\n",
    "    #for count in range(nlabels):\n",
    "    #    print \"lesion #\", count+1, \"\", all_rs_coords[count]\n",
    "    #    print \"\"\n",
    "    return all_rs_coords"
   ]
  },
  {
   "cell_type": "code",
   "execution_count": 370,
   "metadata": {
    "collapsed": true
   },
   "outputs": [],
   "source": [
    "def get_seg_coord(coordinates):\n",
    "    all_seg_coords = []\n",
    "    for count in range(len(coordinates)):\n",
    "        cur_seg_coords = []\n",
    "        for count2 in range(len(coordinates[count])):\n",
    "            seg_coord = np.dot(inv_seg_affine_1328, [coordinates[count][count2][0],\n",
    "                                                    coordinates[count][count2][1], \n",
    "                                                    coordinates[count][count2][2],\n",
    "                                                    1])\n",
    "            #seg_coord_noone = [seg_coord[0],seg_coord[1],seg_coord[2]] #raw float\n",
    "            #seg_coord_noone = [round(seg_coord[0],2),round(seg_coord[1],2),round(seg_coord[2],2)] #two decimal float\n",
    "            seg_coord_noone = [int(seg_coord[0]),int(seg_coord[1]),int(seg_coord[2])] #integers\n",
    "            cur_seg_coords.append(seg_coord_noone)\n",
    "        all_seg_coords.append(cur_seg_coords)\n",
    "    #for count in range(nlabels):\n",
    "    #    print \"lesion #\", count+1, \"\", all_seg_coords[count]\n",
    "    #    print \"\"\n",
    "    return all_seg_coords"
   ]
  },
  {
   "cell_type": "code",
   "execution_count": 371,
   "metadata": {
    "collapsed": true
   },
   "outputs": [],
   "source": [
    "def average_func(coordinates):\n",
    "    averages_all = []\n",
    "    for count in range(len(coordinates)):\n",
    "        averages = []\n",
    "        sumx=0;sumy=0;sumz=0\n",
    "        for count2 in range(len(coordinates[count])):\n",
    "            sumx += coordinates[count][count2][0]\n",
    "            sumy += coordinates[count][count2][1]\n",
    "            sumz += coordinates[count][count2][2]\n",
    "        average_x = sumx / len(coordinates[count])\n",
    "        average_y = sumy / len(coordinates[count])\n",
    "        average_z = sumz / len(coordinates[count])\n",
    "        averages = [int(average_x), int(average_y), int(average_z)]\n",
    "        averages_all.append(averages)\n",
    "        #print count, averages\n",
    "    return averages_all"
   ]
  },
  {
   "cell_type": "code",
   "execution_count": 372,
   "metadata": {
    "collapsed": false
   },
   "outputs": [
    {
     "name": "stdout",
     "output_type": "stream",
     "text": [
      "[78, 105, 89]\n",
      "[50, 5, 44]\n",
      "[81, 128, 106]\n",
      "[76, 105, 89]\n",
      "[52.38, 5.08, 44.57]\n",
      "[79, 129, 106]\n"
     ]
    }
   ],
   "source": [
    "average_les = average_func(get_lesion_coord())\n",
    "average_rs = average_func(get_rs_coord(get_lesion_coord()))\n",
    "average_seg = average_func(get_seg_coord(get_rs_coord(get_lesion_coord())))\n",
    "\n",
    "allcoord_les = get_lesion_coord()\n",
    "allcoord_rs = get_rs_coord(get_lesion_coord())\n",
    "allcoord_seg = get_seg_coord(get_rs_coord(get_lesion_coord()))\n",
    "\n",
    "print average_les[0]\n",
    "print average_rs[0]\n",
    "print average_seg[0]\n",
    "print allcoord_les[0][0]\n",
    "print allcoord_rs[0][0]\n",
    "print allcoord_seg[0][0]\n"
   ]
  },
  {
   "cell_type": "code",
   "execution_count": 373,
   "metadata": {
    "collapsed": false
   },
   "outputs": [
    {
     "name": "stdout",
     "output_type": "stream",
     "text": [
      "[78, 105, 89]\n",
      "[ 50.5039978    5.07699585  44.57289886   1.        ]\n",
      "[  81.125       129.00000763  106.4375        1.        ]\n"
     ]
    }
   ],
   "source": [
    "realspace_coordinates = np.dot(les_affine1328, [average_lesions[0][0],\n",
    "                 average_lesions[0][1], \n",
    "                 average_lesions[0][2],\n",
    "                 1])\n",
    "average_lesions[0] \n",
    "realspace_coordinates\n",
    "from numpy.linalg import inv\n",
    "inv_seg_affine_1328 = np.linalg.inv(seg_affine1328)\n",
    "freesurfer_matrix = np.dot(inv_seg_affine_1328, [realspace_coordinates[0],\n",
    "                 realspace_coordinates[1], \n",
    "                 realspace_coordinates[2],\n",
    "                 1])\n",
    "print average_lesions[0]; print realspace_coordinates; print freesurfer_matrix"
   ]
  },
  {
   "cell_type": "code",
   "execution_count": null,
   "metadata": {
    "collapsed": false
   },
   "outputs": [],
   "source": []
  },
  {
   "cell_type": "code",
   "execution_count": null,
   "metadata": {
    "collapsed": true
   },
   "outputs": [],
   "source": []
  }
 ],
 "metadata": {
  "kernelspec": {
   "display_name": "Python 2",
   "language": "python",
   "name": "python2"
  },
  "language_info": {
   "codemirror_mode": {
    "name": "ipython",
    "version": 2
   },
   "file_extension": ".py",
   "mimetype": "text/x-python",
   "name": "python",
   "nbconvert_exporter": "python",
   "pygments_lexer": "ipython2",
   "version": "2.7.11"
  }
 },
 "nbformat": 4,
 "nbformat_minor": 0
}
