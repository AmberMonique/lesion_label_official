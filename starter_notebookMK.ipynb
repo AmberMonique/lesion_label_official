{
 "cells": [
  {
   "cell_type": "markdown",
   "metadata": {},
   "source": [
    "## Command imports"
   ]
  },
  {
   "cell_type": "code",
   "execution_count": 2,
   "metadata": {
    "collapsed": false
   },
   "outputs": [
    {
     "name": "stdout",
     "output_type": "stream",
     "text": [
      "Populating the interactive namespace from numpy and matplotlib\n"
     ]
    }
   ],
   "source": [
    "%pylab inline \n",
    "import os\n",
    "import nibabel as nib\n",
    "import numpy as np\n",
    "import glob\n",
    "from scipy.ndimage import label\n",
    "from numpy.linalg import inv"
   ]
  },
  {
   "cell_type": "markdown",
   "metadata": {},
   "source": [
    "## Import mse IDs "
   ]
  },
  {
   "cell_type": "code",
   "execution_count": 3,
   "metadata": {
    "collapsed": false
   },
   "outputs": [
    {
     "name": "stdout",
     "output_type": "stream",
     "text": [
      "['mse1343']\n"
     ]
    }
   ],
   "source": [
    "#subjects = np.genfromtxt(\"pbr_baselines.txt\", dtype=str)\n",
    "subjects = [\"mse1343\"]\n",
    "print subjects[:5]"
   ]
  },
  {
   "cell_type": "markdown",
   "metadata": {},
   "source": [
    "## Set variables to lesion/segmentation files"
   ]
  },
  {
   "cell_type": "code",
   "execution_count": 4,
   "metadata": {
    "collapsed": false
   },
   "outputs": [
    {
     "name": "stdout",
     "output_type": "stream",
     "text": [
      "/data/henry7/PBR/subjects/mse1343/lesions_manual/ms69-mse1343-002-AX_T1_3D_IRSPGR/alignment_lesions.nii.gz\n",
      "/data/henry7/PBR/subjects/mse1343/masks/ms69-mse1343-002-AX_T1_3D_IRSPGR/segmentation.nii.gz\n",
      "/data/henry7/PBR/subjects/mse1343/masks/ms69-mse1343-002-AX_T1_3D_IRSPGR/segmentation.nii.gz /data/henry7/PBR/subjects/mse1343/lesions_manual/ms69-mse1343-002-AX_T1_3D_IRSPGR/alignment_lesions.nii.gz\n"
     ]
    }
   ],
   "source": [
    "for les_file in glob.glob(\"/data/henry7/PBR/subjects/%s/lesions_manual/*/alignment_lesions.nii.gz\" % subjects[0]):\n",
    "    print les_file\n",
    "for seg_file in glob.glob(\"/data/henry7/PBR/subjects/%s/masks/*/segmentation.nii.gz\" % subjects[0]):\n",
    "    print seg_file\n",
    "    \n",
    "print seg_file, les_file"
   ]
  },
  {
   "cell_type": "markdown",
   "metadata": {},
   "source": [
    "## Obtain affines "
   ]
  },
  {
   "cell_type": "code",
   "execution_count": 5,
   "metadata": {
    "collapsed": false
   },
   "outputs": [
    {
     "name": "stdout",
     "output_type": "stream",
     "text": [
      "(256, 256, 150)\n",
      "(256, 256, 256)\n",
      "[[  -0.9375        0.            0.          118.36100006]\n",
      " [   0.            0.9375        0.          -74.62950134]\n",
      " [   0.            0.            1.          -27.06119919]\n",
      " [   0.            0.            0.            1.        ]]\n",
      "[[  -1.            0.            0.          126.36100769]\n",
      " [   0.            0.            1.          -82.62950134]\n",
      " [   0.           -1.            0.          182.938797  ]\n",
      " [   0.            0.            0.            1.        ]]\n",
      "[[  -1.           -0.           -0.          126.36100769]\n",
      " [  -0.           -0.           -1.          182.938797  ]\n",
      " [   0.            1.            0.           82.62950134]\n",
      " [   0.            0.            0.            1.        ]]\n"
     ]
    }
   ],
   "source": [
    "les_img = nib.load(les_file)\n",
    "les_img.dataobj\n",
    "seg_img = nib.load(seg_file)\n",
    "seg_img.dataobj\n",
    "\n",
    "les_data = les_img.get_data()\n",
    "print les_data.shape\n",
    "seg_data = seg_img.get_data()\n",
    "print seg_data.shape\n",
    "\n",
    "les_affine = les_img.get_affine()\n",
    "print les_affine\n",
    "seg_affine = seg_img.get_affine()\n",
    "print seg_affine\n",
    "inv_seg_affine = np.linalg.inv(seg_affine)\n",
    "print inv_seg_affine"
   ]
  },
  {
   "cell_type": "markdown",
   "metadata": {},
   "source": [
    "## set labels for coordinates"
   ]
  },
  {
   "cell_type": "code",
   "execution_count": 6,
   "metadata": {
    "collapsed": true
   },
   "outputs": [],
   "source": [
    "#lesion labels\n",
    "les_labels, n_les_labels = label(les_data==[1])\n",
    "\n",
    "#segmentation labels\n",
    "seg_brainstem_labels, n_seg_brainstem_labels = label(seg_data==[16])\n",
    "seg_lcerebellumcortex_labels, n_seg_lcerebellumcortex_labels = label(seg_data==[8])\n",
    "seg_rcerebellumcortex_labels, n_seg_rcerebellumcortex_labels = label(seg_data==[47])\n",
    "seg_lcerebellumwm_labels, n_seg_lcerebellumwm_labels = label(seg_data==[7])\n",
    "seg_rcerebellumwm_labels, n_seg_rcerebellumwm_labels = label(seg_data==[46])"
   ]
  },
  {
   "cell_type": "markdown",
   "metadata": {},
   "source": [
    "## debugging tools for labels"
   ]
  },
  {
   "cell_type": "code",
   "execution_count": 7,
   "metadata": {
    "collapsed": false
   },
   "outputs": [
    {
     "name": "stdout",
     "output_type": "stream",
     "text": [
      "14\n",
      "2\n",
      "[9802412      34   10765      30      43     962     608   15063      54\n",
      "     159      36      89      56      33      56]\n",
      "[16762636    14580]\n"
     ]
    }
   ],
   "source": [
    "print n_les_labels #prints number of lesion labels\n",
    "\n",
    "print n_seg_brainstem_labels #prints number of labels in brainstem\n",
    "\n",
    "print np.bincount(les_labels.ravel()) #prints volumes of lesions\n",
    "\n",
    "print np.bincount(seg_lcerebellumwm_labels.ravel()) #prints volume of left cerebellum white matter"
   ]
  },
  {
   "cell_type": "markdown",
   "metadata": {},
   "source": [
    "## Function that gets coordinates from labels"
   ]
  },
  {
   "cell_type": "code",
   "execution_count": 48,
   "metadata": {
    "collapsed": false
   },
   "outputs": [],
   "source": [
    "def get_label_coord(labels,num_labels):\n",
    "    all_label_coords = []\n",
    "    if num_labels >= 1:\n",
    "        for count in range(1, num_labels+1):\n",
    "            cur_label_coords = []\n",
    "            x,y,z = np.nonzero(labels==count)\n",
    "            for count2 in range(len(x)):\n",
    "                cur_coord = [x[count2],y[count2],z[count2]]\n",
    "                cur_label_coords.append(cur_coord)\n",
    "            all_label_coords.append(cur_label_coords)\n",
    "    else:\n",
    "        x,y,z = np.nonzero(labels==1)\n",
    "        for count in range(len(x)):\n",
    "            all_label_coords.append([x[count],y[count],z[count]])\n",
    "    #for count in range(nlabels):\n",
    "    #    print \"lesion #\", count+1, \"\", all_les_coords[count]\n",
    "    #    print \"\"\n",
    "    return all_label_coords"
   ]
  },
  {
   "cell_type": "markdown",
   "metadata": {},
   "source": [
    "## Function that converts coordinates to real space"
   ]
  },
  {
   "cell_type": "code",
   "execution_count": 9,
   "metadata": {
    "collapsed": true
   },
   "outputs": [],
   "source": [
    "def get_rs_coord(coordinates):\n",
    "    all_rs_coords = []\n",
    "    for count in range(len(coordinates)):\n",
    "        cur_rs_coords = []\n",
    "        for count2 in range(len(coordinates[count])):\n",
    "            rs_coord = np.dot(les_affine, [coordinates[count][count2][0],\n",
    "                                           coordinates[count][count2][1], \n",
    "                                           coordinates[count][count2][2],\n",
    "                                           1])\n",
    "            rs_coord_noone = [rs_coord[0],rs_coord[1],rs_coord[2]] #raw float\n",
    "            #rs_coord_noone = [round(rs_coord[0],2),round(rs_coord[1],2),round(rs_coord[2],2)] #two decimal float\n",
    "            #rs_coord_noone = [int(rs_coord[0]),int(rs_coord[1]),int(rs_coord[2])] #integers\n",
    "            cur_rs_coords.append(rs_coord_noone)\n",
    "        all_rs_coords.append(cur_rs_coords)\n",
    "    #for count in range(nlabels):\n",
    "    #    print \"lesion #\", count+1, \"\", all_rs_coords[count]\n",
    "    #    print \"\"\n",
    "    return all_rs_coords"
   ]
  },
  {
   "cell_type": "markdown",
   "metadata": {},
   "source": [
    "## Function that converts coordinates to segmentation file coordinates"
   ]
  },
  {
   "cell_type": "code",
   "execution_count": 10,
   "metadata": {
    "collapsed": true
   },
   "outputs": [],
   "source": [
    "def get_seg_coord(coordinates):\n",
    "    all_seg_coords = []\n",
    "    for count in range(len(coordinates)):\n",
    "        cur_seg_coords = []\n",
    "        for count2 in range(len(coordinates[count])):\n",
    "            seg_coord = np.dot(inv_seg_affine, [coordinates[count][count2][0],\n",
    "                                                coordinates[count][count2][1], \n",
    "                                                coordinates[count][count2][2],\n",
    "                                                1])\n",
    "            #seg_coord_noone = [seg_coord[0],seg_coord[1],seg_coord[2]] #raw float\n",
    "            #seg_coord_noone = [round(seg_coord[0],2),round(seg_coord[1],2),round(seg_coord[2],2)] #two decimal float\n",
    "            seg_coord_noone = [int(seg_coord[0]),int(seg_coord[1]),int(seg_coord[2])] #integers\n",
    "            cur_seg_coords.append(seg_coord_noone)\n",
    "        all_seg_coords.append(cur_seg_coords)\n",
    "    #for count in range(nlabels):\n",
    "    #    print \"lesion #\", count+1, \"\", all_seg_coords[count]\n",
    "    #    print \"\"\n",
    "    return all_seg_coords"
   ]
  },
  {
   "cell_type": "markdown",
   "metadata": {},
   "source": [
    "## Generate midbrain coordinates"
   ]
  },
  {
   "cell_type": "code",
   "execution_count": 59,
   "metadata": {
    "collapsed": false
   },
   "outputs": [
    {
     "name": "stdout",
     "output_type": "stream",
     "text": [
      "5\n",
      "14580\n",
      "\n",
      "\n",
      "21730\n"
     ]
    }
   ],
   "source": [
    "midbrain_int = []\n",
    "bs = get_label_coord(seg_brainstem_labels,n_seg_brainstem_labels)\n",
    "lcc = get_label_coord(seg_lcerebellumcortex_labels,n_seg_lcerebellumcortex_labels)\n",
    "lcw = get_label_coord(seg_lcerebellumwm_labels,n_seg_lcerebellumwm_labels)\n",
    "rcc = get_label_coord(seg_rcerebellumcortex_labels,n_seg_rcerebellumcortex_labels)\n",
    "rcw = get_label_coord(seg_rcerebellumwm_labels,n_seg_rcerebellumwm_labels)\n",
    "\n",
    "midbrain = []\n",
    "midbrainparts = [brainstem, lcercort, lcerwm, rcercort, rcerwm]\n",
    "\n",
    "if len(bs) != 1:\n",
    "    midbrain.append(bs[1])\n",
    "else:\n",
    "    midbrain.append(bs[0])\n",
    "\n",
    "if len(lcc) != 1:\n",
    "    midbrain.append(lcc[1])\n",
    "else:\n",
    "    midbrain.append(lcc[0])\n",
    "\n",
    "if len(lcw) != 1:\n",
    "    midbrain.append(lcw[1])\n",
    "else:\n",
    "    midbrain.append(lcw[0])\n",
    "\n",
    "if len(rcc) != 1:\n",
    "    midbrain.append(rcc[1])\n",
    "else:\n",
    "    midbrain.append(rcc[0])\n",
    "\n",
    "if len(rcw) != 1:\n",
    "    midbrain.append(rcw[1])\n",
    "else:\n",
    "    midbrain.append(rcw[0])\n",
    "\n",
    "print len(midbrain)\n",
    "\n"
   ]
  },
  {
   "cell_type": "markdown",
   "metadata": {},
   "source": [
    "## Generate lesion coordinates into a variable"
   ]
  },
  {
   "cell_type": "code",
   "execution_count": 12,
   "metadata": {
    "collapsed": false
   },
   "outputs": [
    {
     "name": "stdout",
     "output_type": "stream",
     "text": [
      "14\n",
      "[80, 133, 113]\n",
      "[[139, 94, 33], [140, 94, 33], [140, 95, 33], [141, 95, 33], [141, 95, 34], [142, 95, 33], [142, 96, 33], [142, 96, 34], [142, 97, 33], [142, 97, 34], [143, 95, 33], [143, 96, 32], [143, 96, 33], [143, 96, 34], [143, 97, 32], [143, 97, 33], [143, 97, 34], [143, 98, 33], [143, 98, 34], [144, 95, 33], [144, 95, 34], [144, 96, 32], [144, 96, 33], [144, 96, 34], [144, 97, 32], [144, 97, 33], [144, 97, 34], [144, 98, 32], [144, 98, 33], [144, 99, 32], [144, 99, 33], [145, 95, 33], [145, 95, 34], [145, 96, 32], [145, 96, 33], [145, 96, 34], [145, 97, 32], [145, 97, 33], [145, 98, 32], [145, 98, 33], [145, 99, 32], [145, 99, 33], [145, 100, 32], [146, 95, 33], [146, 96, 32], [146, 96, 33], [146, 97, 32], [146, 97, 33], [146, 98, 32], [146, 98, 33], [146, 99, 32], [147, 95, 33], [147, 96, 32], [147, 96, 33]]\n",
      "[[138, 176, 96], [139, 176, 96], [139, 176, 97], [140, 176, 97], [140, 175, 97], [141, 176, 97], [141, 176, 98], [141, 175, 98], [141, 176, 98], [141, 175, 98], [142, 176, 97], [142, 177, 98], [142, 176, 98], [142, 175, 98], [142, 177, 98], [142, 176, 98], [142, 175, 98], [142, 176, 99], [142, 175, 99], [143, 176, 97], [143, 175, 97], [143, 177, 98], [143, 176, 98], [143, 175, 98], [143, 177, 98], [143, 176, 98], [143, 175, 98], [143, 177, 99], [143, 176, 99], [143, 177, 100], [143, 176, 100], [143, 176, 97], [143, 175, 97], [143, 177, 98], [143, 176, 98], [143, 175, 98], [143, 177, 98], [143, 176, 98], [143, 177, 99], [143, 176, 99], [143, 177, 100], [143, 176, 100], [143, 177, 101], [144, 176, 97], [144, 177, 98], [144, 176, 98], [144, 177, 98], [144, 176, 98], [144, 177, 99], [144, 176, 99], [144, 177, 100], [145, 176, 97], [145, 177, 98], [145, 176, 98]]\n",
      "[145, 98, 33]\n",
      "[143, 176, 99]\n"
     ]
    }
   ],
   "source": [
    "lesions = get_seg_coord(get_rs_coord(get_label_coord(les_labels,n_les_labels)))\n",
    "lesions_les = get_label_coord(les_labels,n_les_labels)\n",
    "lesions_seg = lesions\n",
    "\n",
    "print len(lesions)\n",
    "print lesions_seg[0][1]\n",
    "print lesions_les[7]\n",
    "print lesions_seg[7]\n",
    "print lesions_les[7][39]\n",
    "print lesions_seg[7][39]\n"
   ]
  },
  {
   "cell_type": "markdown",
   "metadata": {},
   "source": [
    "## Debugging function that finds range of values in brain lesion/segment"
   ]
  },
  {
   "cell_type": "code",
   "execution_count": 13,
   "metadata": {
    "collapsed": false
   },
   "outputs": [
    {
     "name": "stdout",
     "output_type": "stream",
     "text": [
      "109 - 146\n",
      "148 - 207\n",
      "83 - 117\n"
     ]
    }
   ],
   "source": [
    "test_x = [];test_y=[];test_z=[]\n",
    "for count in range(len(midbrain[0])):\n",
    "    test_x.append(midbrain[0][count][0])\n",
    "    test_y.append(midbrain[0][count][1])\n",
    "    test_z.append(midbrain[0][count][2])\n",
    "\n",
    "def range_coord(val_list):\n",
    "    min_val = min(val_list)\n",
    "    max_val = max(val_list)\n",
    "    print min_val,\"-\", max_val\n",
    "\n",
    "range_coord(test_x);range_coord(test_y);range_coord(test_z)"
   ]
  },
  {
   "cell_type": "markdown",
   "metadata": {},
   "source": [
    "## Debugging Function that searches for coordinates"
   ]
  },
  {
   "cell_type": "code",
   "execution_count": 26,
   "metadata": {
    "collapsed": false
   },
   "outputs": [
    {
     "name": "stdout",
     "output_type": "stream",
     "text": [
      "not available\n",
      "not available\n",
      "28\n",
      "39\n",
      "available\n"
     ]
    }
   ],
   "source": [
    "def search(coordinates,check_coord):\n",
    "    number = 0\n",
    "    for count in range(len(coordinates)):\n",
    "        if check_coord == coordinates[count]:\n",
    "            number = count + 1\n",
    "            print count\n",
    "    if number == 0:\n",
    "        print \"not available\"\n",
    "    else:\n",
    "        print \"available\"\n",
    "\n",
    "search(midbrain[0],lesions[7][39])\n",
    "search(midbrain[0],[144, 177, 100])\n",
    "search(lesions[7],lesions[7][39])"
   ]
  },
  {
   "cell_type": "markdown",
   "metadata": {},
   "source": [
    "## Function that takes in coordinates for lesions, and outputs average; may not actually use this"
   ]
  },
  {
   "cell_type": "code",
   "execution_count": 15,
   "metadata": {
    "collapsed": true
   },
   "outputs": [],
   "source": [
    "def average_func(coordinates):\n",
    "    averages_all = []\n",
    "    for count in range(len(coordinates)):\n",
    "        averages = []\n",
    "        sumx=0;sumy=0;sumz=0\n",
    "        for count2 in range(len(coordinates[count])):\n",
    "            sumx += coordinates[count][count2][0]\n",
    "            sumy += coordinates[count][count2][1]\n",
    "            sumz += coordinates[count][count2][2]\n",
    "        average_x = sumx / len(coordinates[count])\n",
    "        average_y = sumy / len(coordinates[count])\n",
    "        average_z = sumz / len(coordinates[count])\n",
    "        averages = [average_x, average_y, average_z]\n",
    "        averages_all.append(averages)\n",
    "        #print count, averages\n",
    "    return averages_all"
   ]
  },
  {
   "cell_type": "code",
   "execution_count": 16,
   "metadata": {
    "collapsed": false
   },
   "outputs": [
    {
     "name": "stdout",
     "output_type": "stream",
     "text": [
      "[78, 113, 75]\n",
      "[44.54666182574104, 31.804322186638327, 48.70350669412052]\n",
      "[81, 133, 113]\n",
      "[77, 113, 75]\n",
      "[46.173500061035156, 31.307998657226562, 47.938800811767578]\n",
      "[80, 134, 113]\n",
      "[[81, 133, 113], [102, 126, 88], [97, 138, 160], [99, 158, 97], [107, 133, 152], [142, 135, 151], [158, 133, 87], [142, 176, 98], [143, 125, 141], [142, 148, 148], [147, 152, 53], [149, 148, 149], [152, 122, 144], [180, 108, 120]]\n"
     ]
    }
   ],
   "source": [
    "average_les = average_func(get_label_coord(les_labels, n_les_labels))\n",
    "average_rs = average_func(get_rs_coord(get_label_coord(les_labels, n_les_labels)))\n",
    "average_seg = average_func(get_seg_coord(get_rs_coord(get_label_coord(les_labels, n_les_labels))))\n",
    "\n",
    "allcoord_les = get_label_coord(les_labels, n_les_labels)\n",
    "allcoord_rs = get_rs_coord(get_label_coord(les_labels, n_les_labels))\n",
    "allcoord_seg = get_seg_coord(get_rs_coord(get_label_coord(les_labels, n_les_labels)))\n",
    "\n",
    "print average_les[0]\n",
    "print average_rs[0]\n",
    "print average_seg[0]\n",
    "print allcoord_les[0][0]\n",
    "print allcoord_rs[0][0]\n",
    "print allcoord_seg[0][0]\n",
    "\n",
    "print average_seg"
   ]
  },
  {
   "cell_type": "markdown",
   "metadata": {},
   "source": [
    "## Infratentorial Lesion Check"
   ]
  },
  {
   "cell_type": "code",
   "execution_count": 62,
   "metadata": {
    "collapsed": false
   },
   "outputs": [
    {
     "ename": "KeyboardInterrupt",
     "evalue": "",
     "output_type": "error",
     "traceback": [
      "\u001b[1;31m---------------------------------------------------------------------------\u001b[0m",
      "\u001b[1;31mKeyboardInterrupt\u001b[0m                         Traceback (most recent call last)",
      "\u001b[1;32m<ipython-input-62-7869af46a932>\u001b[0m in \u001b[0;36m<module>\u001b[1;34m()\u001b[0m\n\u001b[0;32m      8\u001b[0m             \u001b[0mhalt\u001b[0m \u001b[1;33m=\u001b[0m \u001b[1;34m\"\"\u001b[0m\u001b[1;33m\u001b[0m\u001b[0m\n\u001b[0;32m      9\u001b[0m             \u001b[1;32mfor\u001b[0m \u001b[0mcount4\u001b[0m \u001b[1;32min\u001b[0m \u001b[0mrange\u001b[0m\u001b[1;33m(\u001b[0m\u001b[0mlen\u001b[0m\u001b[1;33m(\u001b[0m\u001b[0mmidbrain\u001b[0m\u001b[1;33m[\u001b[0m\u001b[0mcount3\u001b[0m\u001b[1;33m]\u001b[0m\u001b[1;33m)\u001b[0m\u001b[1;33m)\u001b[0m\u001b[1;33m:\u001b[0m\u001b[1;33m\u001b[0m\u001b[0m\n\u001b[1;32m---> 10\u001b[1;33m                 \u001b[1;32mif\u001b[0m \u001b[0mlesions\u001b[0m\u001b[1;33m[\u001b[0m\u001b[0mcount\u001b[0m\u001b[1;33m]\u001b[0m\u001b[1;33m[\u001b[0m\u001b[0mcount2\u001b[0m\u001b[1;33m]\u001b[0m \u001b[1;33m==\u001b[0m \u001b[0mmidbrain\u001b[0m\u001b[1;33m[\u001b[0m\u001b[0mcount3\u001b[0m\u001b[1;33m]\u001b[0m\u001b[1;33m[\u001b[0m\u001b[0mcount4\u001b[0m\u001b[1;33m]\u001b[0m\u001b[1;33m:\u001b[0m\u001b[1;33m\u001b[0m\u001b[0m\n\u001b[0m\u001b[0;32m     11\u001b[0m                     \u001b[0minf_num\u001b[0m \u001b[1;33m+=\u001b[0m \u001b[1;36m1\u001b[0m\u001b[1;33m\u001b[0m\u001b[0m\n\u001b[0;32m     12\u001b[0m                     \u001b[0mlesion_type\u001b[0m \u001b[1;33m=\u001b[0m \u001b[1;34m\"infratentorial\"\u001b[0m\u001b[1;33m\u001b[0m\u001b[0m\n",
      "\u001b[1;31mKeyboardInterrupt\u001b[0m: "
     ]
    }
   ],
   "source": [
    "les_type = []\n",
    "inf_num = 0\n",
    "for count in range(len(lesions)):\n",
    "    lesion_type = \"\"\n",
    "    count4 = 0\n",
    "    for count2 in range(len(lesions[count])):\n",
    "        for count3 in range(len(midbrain)):\n",
    "            halt = \"\"\n",
    "            for count4 in range(len(midbrain[count3])):\n",
    "                if lesions[count][count2] == midbrain[count3][count4]:\n",
    "                    inf_num += 1\n",
    "                    lesion_type = \"infratentorial\"\n",
    "                    halt = \"stop\"\n",
    "                    break\n",
    "            if halt == \"stop\":\n",
    "                break\n",
    "    if lesion_type == \"infratentorial\":\n",
    "        les_type.append(lesion_type)\n",
    "    elif lesion_type == \"\":\n",
    "        les_type.append(\"subcortical\")\n",
    "\n",
    "print les_type\n",
    "print inf_num"
   ]
  },
  {
   "cell_type": "code",
   "execution_count": 18,
   "metadata": {
    "collapsed": false
   },
   "outputs": [
    {
     "name": "stdout",
     "output_type": "stream",
     "text": [
      "<generator object <genexpr> at 0x7f64a844cdc0>\n"
     ]
    }
   ],
   "source": [
    "test = any(count for lesions[7][39] in midbrain)\n",
    "print test"
   ]
  },
  {
   "cell_type": "markdown",
   "metadata": {},
   "source": [
    "### Not part of program, but this worked for one set of coordinates so loop data is compared to this"
   ]
  },
  {
   "cell_type": "code",
   "execution_count": 60,
   "metadata": {
    "collapsed": false
   },
   "outputs": [
    {
     "name": "stdout",
     "output_type": "stream",
     "text": [
      "[78, 113, 75]\n",
      "[ 45.23600006  31.30799866  47.93880081   1.        ]\n",
      "[  81.12500763  134.99999619  113.9375        1.        ]\n",
      "21730\n",
      "infratentorial\n",
      "infratentorial\n",
      "infratentorial\n",
      "infratentorial\n",
      "infratentorial\n",
      "infratentorial\n",
      "infratentorial\n",
      "infratentorial\n",
      "infratentorial\n",
      "infratentorial\n",
      "infratentorial\n",
      "infratentorial\n",
      "infratentorial\n",
      "infratentorial\n",
      "infratentorial\n",
      "infratentorial\n",
      "infratentorial\n",
      "infratentorial\n",
      "infratentorial\n",
      "infratentorial\n",
      "infratentorial\n",
      "infratentorial\n",
      "infratentorial\n",
      "infratentorial\n",
      "infratentorial\n",
      "infratentorial\n",
      "infratentorial\n",
      "infratentorial\n",
      "infratentorial\n",
      "infratentorial\n",
      "infratentorial\n",
      "infratentorial\n",
      "infratentorial\n",
      "infratentorial\n",
      "infratentorial\n",
      "infratentorial\n",
      "infratentorial\n",
      "infratentorial\n",
      "infratentorial\n",
      "infratentorial\n",
      "infratentorial\n",
      "infratentorial\n",
      "infratentorial\n",
      "infratentorial\n",
      "infratentorial\n",
      "infratentorial\n",
      "infratentorial\n",
      "infratentorial\n",
      "infratentorial\n",
      "infratentorial\n",
      "infratentorial\n",
      "infratentorial\n",
      "infratentorial\n",
      "infratentorial\n",
      "['infratentorial']\n",
      "53\n"
     ]
    }
   ],
   "source": [
    "realspace_coordinates = np.dot(les_affine, [average_les[0][0],\n",
    "                 average_les[0][1], \n",
    "                 average_les[0][2],\n",
    "                 1])\n",
    "average_les[0] \n",
    "realspace_coordinates\n",
    "from numpy.linalg import inv\n",
    "inv_seg_affine = np.linalg.inv(seg_affine)\n",
    "freesurfer_matrix = np.dot(inv_seg_affine, [realspace_coordinates[0],\n",
    "                                            realspace_coordinates[1], \n",
    "                                            realspace_coordinates[2],\n",
    "                                            1])\n",
    "print average_les[0]; print realspace_coordinates; print freesurfer_matrix\n",
    "\n",
    "print len(midbrain[0])\n",
    "\n",
    "les_type = []\n",
    "\n",
    "for count in range(len(lesions[7])):\n",
    "    for count2 in range(len(midbrain)):\n",
    "        halt = \"\"\n",
    "        for count3 in range(len(midbrain[count2])):\n",
    "            if lesions[7][count] == midbrain[count2][count3]:\n",
    "                inf_num += 1\n",
    "                lesion_type = \"infratentorial\"\n",
    "                halt = \"stop\"\n",
    "                break\n",
    "        if halt == \"stop\":\n",
    "            break\n",
    "    print lesion_type\n",
    "if lesion_type == \"infratentorial\":\n",
    "    les_type.append(lesion_type)\n",
    "elif lesion_type == \"\":\n",
    "    les_type.append(\"subcortical\")\n",
    "\n",
    "print les_type\n",
    "print inf_num"
   ]
  },
  {
   "cell_type": "code",
   "execution_count": null,
   "metadata": {
    "collapsed": false
   },
   "outputs": [],
   "source": []
  },
  {
   "cell_type": "code",
   "execution_count": null,
   "metadata": {
    "collapsed": true
   },
   "outputs": [],
   "source": []
  }
 ],
 "metadata": {
  "kernelspec": {
   "display_name": "Python 2",
   "language": "python",
   "name": "python2"
  },
  "language_info": {
   "codemirror_mode": {
    "name": "ipython",
    "version": 2
   },
   "file_extension": ".py",
   "mimetype": "text/x-python",
   "name": "python",
   "nbconvert_exporter": "python",
   "pygments_lexer": "ipython2",
   "version": "2.7.11"
  }
 },
 "nbformat": 4,
 "nbformat_minor": 0
}
