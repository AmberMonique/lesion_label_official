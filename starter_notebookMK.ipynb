{
 "cells": [
  {
   "cell_type": "markdown",
   "metadata": {},
   "source": [
    "## Command imports"
   ]
  },
  {
   "cell_type": "code",
   "execution_count": 18,
   "metadata": {
    "collapsed": false
   },
   "outputs": [
    {
     "name": "stdout",
     "output_type": "stream",
     "text": [
      "Populating the interactive namespace from numpy and matplotlib\n"
     ]
    }
   ],
   "source": [
    "%pylab inline \n",
    "import os\n",
    "import nibabel as nib\n",
    "import numpy as np\n",
    "import glob\n",
    "from scipy.ndimage import label\n",
    "from numpy.linalg import inv"
   ]
  },
  {
   "cell_type": "markdown",
   "metadata": {},
   "source": [
    "## Import mse IDs "
   ]
  },
  {
   "cell_type": "code",
   "execution_count": 19,
   "metadata": {
    "collapsed": false
   },
   "outputs": [
    {
     "name": "stdout",
     "output_type": "stream",
     "text": [
      "['mse1328']\n"
     ]
    }
   ],
   "source": [
    "#subjects = np.genfromtxt(\"pbr_baselines.txt\", dtype=str)\n",
    "subjects = [\"mse1328\"]\n",
    "print subjects[:5]"
   ]
  },
  {
   "cell_type": "markdown",
   "metadata": {},
   "source": [
    "## Set variables to lesion/segmentation files"
   ]
  },
  {
   "cell_type": "code",
   "execution_count": 20,
   "metadata": {
    "collapsed": false
   },
   "outputs": [
    {
     "name": "stdout",
     "output_type": "stream",
     "text": [
      "/data/henry7/PBR/subjects/mse1328/lesions_manual/ms56-mse1328-002-AX_T1_3D_IRSPGR/alignment_lesions.nii.gz\n",
      "/data/henry7/PBR/subjects/mse1328/masks/ms56-mse1328-002-AX_T1_3D_IRSPGR/segmentation.nii.gz\n"
     ]
    }
   ],
   "source": [
    "for les_file in glob.glob(\"/data/henry7/PBR/subjects/mse1328/lesions_manual/*/alignment_lesions.nii.gz\"):\n",
    "    print les_file\n",
    "for seg_file in glob.glob(\"/data/henry7/PBR/subjects/mse1328/masks/*/segmentation.nii.gz\"):\n",
    "    print seg_file"
   ]
  },
  {
   "cell_type": "markdown",
   "metadata": {},
   "source": [
    "## Obtain affines "
   ]
  },
  {
   "cell_type": "code",
   "execution_count": 21,
   "metadata": {
    "collapsed": false
   },
   "outputs": [
    {
     "name": "stdout",
     "output_type": "stream",
     "text": [
      "(256, 256, 150)\n",
      "(256, 256, 256)\n",
      "[[  -0.9375        0.            0.          123.6289978 ]\n",
      " [   0.            0.9375        0.          -93.36050415]\n",
      " [   0.            0.            1.          -44.42710114]\n",
      " [   0.            0.            0.            1.        ]]\n",
      "[[  -1.            0.            0.          131.6289978 ]\n",
      " [   0.            0.            1.         -101.36050415]\n",
      " [   0.           -1.            0.          173.57290649]\n",
      " [   0.            0.            0.            1.        ]]\n",
      "[[  -1.           -0.           -0.          131.6289978 ]\n",
      " [  -0.           -0.           -1.          173.57290649]\n",
      " [   0.            1.            0.          101.36050415]\n",
      " [   0.            0.            0.            1.        ]]\n"
     ]
    }
   ],
   "source": [
    "les_img = nib.load(les_file)\n",
    "les_img.dataobj\n",
    "seg_img = nib.load(seg_file)\n",
    "seg_img.dataobj\n",
    "\n",
    "les_data = les_img.get_data()\n",
    "print les_data.shape\n",
    "seg_data = seg_img.get_data()\n",
    "print seg_data.shape\n",
    "\n",
    "les_affine = les_img.get_affine()\n",
    "print les_affine\n",
    "seg_affine = seg_img.get_affine()\n",
    "print seg_affine\n",
    "inv_seg_affine = np.linalg.inv(seg_affine)\n",
    "print inv_seg_affine"
   ]
  },
  {
   "cell_type": "code",
   "execution_count": 22,
   "metadata": {
    "collapsed": true
   },
   "outputs": [],
   "source": [
    "#lesion labels\n",
    "les_labels, nles_labels = label(les_data==[1])\n",
    "\n",
    "#segmentation labels\n",
    "seg_brainstem_labels, n_seg_brainstem_labels = label(seg_data==[16])\n",
    "seg_lcerebellumcortex_labels, n_seg_lcerebellumcortex_labels = label(seg_data==[8])\n",
    "seg_rcerebellumcortex_labels, n_seg_rcerebellumcortex_labels = label(seg_data==[47])\n",
    "seg_lcerebellumwm_labels, n_seg_lcerebellumwm_labels = label(seg_data==[7])\n",
    "seg_rcerebellumwm_labels, n_seg_rcerebellumwm_labels = label(seg_data==[46])"
   ]
  },
  {
   "cell_type": "code",
   "execution_count": 23,
   "metadata": {
    "collapsed": false
   },
   "outputs": [
    {
     "data": {
      "text/plain": [
       "11"
      ]
     },
     "execution_count": 23,
     "metadata": {},
     "output_type": "execute_result"
    }
   ],
   "source": [
    "nles_labels"
   ]
  },
  {
   "cell_type": "code",
   "execution_count": 24,
   "metadata": {
    "collapsed": false
   },
   "outputs": [
    {
     "data": {
      "text/plain": [
       "1"
      ]
     },
     "execution_count": 24,
     "metadata": {},
     "output_type": "execute_result"
    }
   ],
   "source": [
    "n_seg_brainstem_labels"
   ]
  },
  {
   "cell_type": "code",
   "execution_count": 25,
   "metadata": {
    "collapsed": false
   },
   "outputs": [
    {
     "name": "stdout",
     "output_type": "stream",
     "text": [
      "[ 0  1  2  3  4  5  6  7  8  9 10 11]\n"
     ]
    }
   ],
   "source": [
    "n = np.unique(les_labels)\n",
    "print n"
   ]
  },
  {
   "cell_type": "code",
   "execution_count": 26,
   "metadata": {
    "collapsed": false
   },
   "outputs": [
    {
     "data": {
      "text/plain": [
       "array([9829648,      69,     105,      54,      29,      69,      61,\n",
       "            36,      47,     125,     111,      46])"
      ]
     },
     "execution_count": 26,
     "metadata": {},
     "output_type": "execute_result"
    }
   ],
   "source": [
    "np.bincount(les_labels.ravel())"
   ]
  },
  {
   "cell_type": "markdown",
   "metadata": {},
   "source": [
    "## Function that gets coordinates from labels"
   ]
  },
  {
   "cell_type": "code",
   "execution_count": 35,
   "metadata": {
    "collapsed": false
   },
   "outputs": [],
   "source": [
    "def get_label_coord(labels,num_labels):\n",
    "    all_label_coords = []\n",
    "    if num_labels >= 2:\n",
    "        for count in range(1, num_labels+1):\n",
    "            cur_label_coords = []\n",
    "            x,y,z = np.nonzero(labels==count)\n",
    "            for count2 in range(len(x)):\n",
    "                cur_coord = [x[count2],y[count2],z[count2]]\n",
    "                cur_label_coords.append(cur_coord)\n",
    "            all_label_coords.append(cur_label_coords)\n",
    "    else:\n",
    "        x,y,z = np.nonzero(labels==1)\n",
    "        for count in range(len(x)):\n",
    "            all_label_coords.append([x[count],y[count],z[count]])\n",
    "    #for count in range(nlabels):\n",
    "    #    print \"lesion #\", count+1, \"\", all_les_coords[count]\n",
    "    #    print \"\"\n",
    "    return all_label_coords"
   ]
  },
  {
   "cell_type": "markdown",
   "metadata": {},
   "source": [
    "## Function that converts coordinates to real space"
   ]
  },
  {
   "cell_type": "code",
   "execution_count": 36,
   "metadata": {
    "collapsed": true
   },
   "outputs": [],
   "source": [
    "def get_rs_coord(coordinates):\n",
    "    all_rs_coords = []\n",
    "    for count in range(len(coordinates)):\n",
    "        cur_rs_coords = []\n",
    "        for count2 in range(len(coordinates[count])):\n",
    "            rs_coord = np.dot(les_affine, [coordinates[count][count2][0],\n",
    "                                           coordinates[count][count2][1], \n",
    "                                           coordinates[count][count2][2],\n",
    "                                           1])\n",
    "            rs_coord_noone = [rs_coord[0],rs_coord[1],rs_coord[2]] #raw float\n",
    "            #rs_coord_noone = [round(rs_coord[0],2),round(rs_coord[1],2),round(rs_coord[2],2)] #two decimal float\n",
    "            #rs_coord_noone = [int(rs_coord[0]),int(rs_coord[1]),int(rs_coord[2])] #integers\n",
    "            cur_rs_coords.append(rs_coord_noone)\n",
    "        all_rs_coords.append(cur_rs_coords)\n",
    "    #for count in range(nlabels):\n",
    "    #    print \"lesion #\", count+1, \"\", all_rs_coords[count]\n",
    "    #    print \"\"\n",
    "    return all_rs_coords"
   ]
  },
  {
   "cell_type": "markdown",
   "metadata": {},
   "source": [
    "## Function that converts coordinates to segmentation file coordinates"
   ]
  },
  {
   "cell_type": "code",
   "execution_count": 37,
   "metadata": {
    "collapsed": true
   },
   "outputs": [],
   "source": [
    "def get_seg_coord(coordinates):\n",
    "    all_seg_coords = []\n",
    "    for count in range(len(coordinates)):\n",
    "        cur_seg_coords = []\n",
    "        for count2 in range(len(coordinates[count])):\n",
    "            seg_coord = np.dot(inv_seg_affine, [coordinates[count][count2][0],\n",
    "                                                coordinates[count][count2][1], \n",
    "                                                coordinates[count][count2][2],\n",
    "                                                1])\n",
    "            #seg_coord_noone = [seg_coord[0],seg_coord[1],seg_coord[2]] #raw float\n",
    "            seg_coord_noone = [round(seg_coord[0],2),round(seg_coord[1],2),round(seg_coord[2],2)] #two decimal float\n",
    "            #seg_coord_noone = [int(seg_coord[0]),int(seg_coord[1]),int(seg_coord[2])] #integers\n",
    "            cur_seg_coords.append(seg_coord_noone)\n",
    "        all_seg_coords.append(cur_seg_coords)\n",
    "    #for count in range(nlabels):\n",
    "    #    print \"lesion #\", count+1, \"\", all_seg_coords[count]\n",
    "    #    print \"\"\n",
    "    return all_seg_coords"
   ]
  },
  {
   "cell_type": "markdown",
   "metadata": {},
   "source": [
    "## Create midbrain coordinates"
   ]
  },
  {
   "cell_type": "code",
   "execution_count": 38,
   "metadata": {
    "collapsed": false
   },
   "outputs": [
    {
     "name": "stdout",
     "output_type": "stream",
     "text": [
      "18848\n",
      "3\n"
     ]
    }
   ],
   "source": [
    "midbrain = []\n",
    "midbrain.append(get_label_coord(seg_brainstem_labels,n_seg_brainstem_labels))\n",
    "midbrain.append(get_label_coord(seg_lcerebellumcortex_labels,n_seg_lcerebellumcortex_labels))\n",
    "midbrain.append(get_label_coord(seg_lcerebellumwm_labels,n_seg_lcerebellumwm_labels))\n",
    "midbrain.append(get_label_coord(seg_rcerebellumcortex_labels,n_seg_rcerebellumcortex_labels))\n",
    "midbrain.append(get_label_coord(seg_rcerebellumwm_labels,n_seg_rcerebellumwm_labels))\n",
    "\n",
    "print len(midbrain[0])\n",
    "    "
   ]
  },
  {
   "cell_type": "markdown",
   "metadata": {},
   "source": [
    "## Function that takes in coordinates for lesions, and outputs average; may not actually use this"
   ]
  },
  {
   "cell_type": "code",
   "execution_count": 39,
   "metadata": {
    "collapsed": true
   },
   "outputs": [],
   "source": [
    "def average_func(coordinates):\n",
    "    averages_all = []\n",
    "    for count in range(len(coordinates)):\n",
    "        averages = []\n",
    "        sumx=0;sumy=0;sumz=0\n",
    "        for count2 in range(len(coordinates[count])):\n",
    "            sumx += coordinates[count][count2][0]\n",
    "            sumy += coordinates[count][count2][1]\n",
    "            sumz += coordinates[count][count2][2]\n",
    "        average_x = sumx / len(coordinates[count])\n",
    "        average_y = sumy / len(coordinates[count])\n",
    "        average_z = sumz / len(coordinates[count])\n",
    "        averages = [average_x, average_y, average_z]\n",
    "        averages_all.append(averages)\n",
    "        #print count, averages\n",
    "    return averages_all"
   ]
  },
  {
   "cell_type": "code",
   "execution_count": 40,
   "metadata": {
    "collapsed": false
   },
   "outputs": [
    {
     "name": "stdout",
     "output_type": "stream",
     "text": [
      "[78, 105, 89]\n",
      "[50.191497802734375, 5.9601480235224189, 44.819275676340297]\n",
      "[81.43898550724637, 128.7536231884058, 107.3221739130435]\n",
      "[76, 105, 89]\n",
      "[52.378997802734375, 5.076995849609375, 44.572898864746094]\n",
      "[79.25, 129.0, 106.44]\n"
     ]
    }
   ],
   "source": [
    "average_les = average_func(get_label_coord(les_labels, nles_labels))\n",
    "average_rs = average_func(get_rs_coord(get_label_coord(les_labels, nles_labels)))\n",
    "average_seg = average_func(get_seg_coord(get_rs_coord(get_label_coord(les_labels, nles_labels))))\n",
    "\n",
    "allcoord_les = get_label_coord(les_labels, nles_labels)\n",
    "allcoord_rs = get_rs_coord(get_label_coord(les_labels, nles_labels))\n",
    "allcoord_seg = get_seg_coord(get_rs_coord(get_label_coord(les_labels, nles_labels)))\n",
    "\n",
    "print average_les[0]\n",
    "print average_rs[0]\n",
    "print average_seg[0]\n",
    "print allcoord_les[0][0]\n",
    "print allcoord_rs[0][0]\n",
    "print allcoord_seg[0][0]\n"
   ]
  },
  {
   "cell_type": "markdown",
   "metadata": {},
   "source": [
    "### Not part of program, but this worked for one set of coordinates so loop data is compared to this"
   ]
  },
  {
   "cell_type": "code",
   "execution_count": 41,
   "metadata": {
    "collapsed": false
   },
   "outputs": [
    {
     "name": "stdout",
     "output_type": "stream",
     "text": [
      "[78, 105, 89]\n",
      "[ 50.5039978    5.07699585  44.57289886   1.        ]\n",
      "[  81.125       129.00000763  106.4375        1.        ]\n"
     ]
    }
   ],
   "source": [
    "realspace_coordinates = np.dot(les_affine, [average_les[0][0],\n",
    "                 average_les[0][1], \n",
    "                 average_les[0][2],\n",
    "                 1])\n",
    "average_les[0] \n",
    "realspace_coordinates\n",
    "from numpy.linalg import inv\n",
    "inv_seg_affine = np.linalg.inv(seg_affine)\n",
    "freesurfer_matrix = np.dot(inv_seg_affine, [realspace_coordinates[0],\n",
    "                                            realspace_coordinates[1], \n",
    "                                            realspace_coordinates[2],\n",
    "                                            1])\n",
    "print average_les[0]; print realspace_coordinates; print freesurfer_matrix"
   ]
  },
  {
   "cell_type": "code",
   "execution_count": null,
   "metadata": {
    "collapsed": false
   },
   "outputs": [],
   "source": []
  },
  {
   "cell_type": "markdown",
   "metadata": {
    "collapsed": true
   },
   "source": [
    "# Master file"
   ]
  },
  {
   "cell_type": "markdown",
   "metadata": {
    "collapsed": false
   },
   "source": [
    "for subject_count in range(len(subjects)):\n",
    "    #show file directory\n",
    "    for les_file in glob.glob(\"/data/henry7/PBR/subjects/%s/lesions_manual/*/alignment_lesions.nii.gz\" % subjects[subject_count]):\n",
    "        print les_file_1328\n",
    "    for seg_file in glob.glob(\"/data/henry7/PBR/subjects/%s/masks/*/segmentation.nii.gz\" % subjects[subject_count]):\n",
    "        print seg_file_1328\n",
    "    #loadfile\n",
    "    les_img = nib.load(les_file)\n",
    "    les_img.dataobj\n",
    "    seg_img = nib.load(seg_file)\n",
    "    seg_img.dataobj\n",
    "    #print shape\n",
    "    les_data = les_img.get_data()\n",
    "    print les_data.shape\n",
    "    seg_data = seg_img.get_data()\n",
    "    print seg_data.shape\n",
    "    #print affines\n",
    "    les_affine = les_img.get_affine()\n",
    "    print les_affine\n",
    "    seg_affine = seg_img.get_affine()\n",
    "    print seg_affine\n",
    "    inv_seg_affine = np.linalg.inv(seg_affine)\n",
    "    print inv_seg_affine\n",
    "    #set labels\n",
    "    #lesion labels\n",
    "    les_labels, nles_labels = label(les_data==[1])\n",
    "    #segmentation labels\n",
    "    seg_les_labels, seg_nles_labels = label(seg_data==[4])\n",
    "    #get coordinates from lesion\n",
    "    def get_label_coord():\n",
    "        all_label_coords = []\n",
    "        for count in range(1, nles_labels+1):\n",
    "            cur_label_coords = []\n",
    "            x,y,z = np.nonzero(les_labels==count)\n",
    "            for count2 in range(len(x)):\n",
    "                cur_coord = [x[count2],y[count2],z[count2]]\n",
    "                cur_label_coords.append(cur_coord)\n",
    "            all_label_coords.append(cur_label_coords)\n",
    "        #for count in range(nlabels):\n",
    "        #    print \"lesion #\", count+1, \"\", all_label_coords[count]\n",
    "        #    print \"\"\n",
    "        return all_label_coords\n",
    "    #get coordinates from lesion\n",
    "    def get_rs_coord(coordinates):\n",
    "        all_rs_coords = []\n",
    "        for count in range(len(coordinates)):\n",
    "            cur_rs_coords = []\n",
    "            for count2 in range(len(coordinates[count])):\n",
    "                rs_coord = np.dot(les_affine, [coordinates[count][count2][0],\n",
    "                                                   coordinates[count][count2][1], \n",
    "                                                   coordinates[count][count2][2],\n",
    "                                                   1])\n",
    "                rs_coord_noone = [rs_coord[0],rs_coord[1],rs_coord[2]] #raw float\n",
    "                #rs_coord_noone = [round(rs_coord[0],2),round(rs_coord[1],2),round(rs_coord[2],2)] #two decimal float\n",
    "                #rs_coord_noone = [int(rs_coord[0]),int(rs_coord[1]),int(rs_coord[2])] #integers\n",
    "                cur_rs_coords.append(rs_coord_noone)\n",
    "            all_rs_coords.append(cur_rs_coords)\n",
    "        #for count in range(nlabels):\n",
    "        #    print \"lesion #\", count+1, \"\", all_rs_coords[count]\n",
    "        #    print \"\"\n",
    "        return all_rs_coords\n",
    "    #get coordinates from real world\n",
    "    def get_seg_coord(coordinates):\n",
    "        all_seg_coords = []\n",
    "        for count in range(len(coordinates)):\n",
    "            cur_seg_coords = []\n",
    "            for count2 in range(len(coordinates[count])):\n",
    "                seg_coord = np.dot(inv_seg_affine, [coordinates[count][count2][0],\n",
    "                                                        coordinates[count][count2][1], \n",
    "                                                        coordinates[count][count2][2],\n",
    "                                                        1])\n",
    "                #seg_coord_noone = [seg_coord[0],seg_coord[1],seg_coord[2]] #raw float\n",
    "                seg_coord_noone = [round(seg_coord[0],2),round(seg_coord[1],2),round(seg_coord[2],2)] #two decimal float\n",
    "                #seg_coord_noone = [int(seg_coord[0]),int(seg_coord[1]),int(seg_coord[2])] #integers\n",
    "                cur_seg_coords.append(seg_coord_noone)\n",
    "            all_seg_coords.append(cur_seg_coords)\n",
    "        #for count in range(nlabels):\n",
    "        #    print \"lesion #\", count+1, \"\", all_seg_coords[count]\n",
    "        #    print \"\"\n",
    "        return all_seg_coords"
   ]
  }
 ],
 "metadata": {
  "kernelspec": {
   "display_name": "Python 2",
   "language": "python",
   "name": "python2"
  },
  "language_info": {
   "codemirror_mode": {
    "name": "ipython",
    "version": 2
   },
   "file_extension": ".py",
   "mimetype": "text/x-python",
   "name": "python",
   "nbconvert_exporter": "python",
   "pygments_lexer": "ipython2",
   "version": "2.7.11"
  }
 },
 "nbformat": 4,
 "nbformat_minor": 0
}
