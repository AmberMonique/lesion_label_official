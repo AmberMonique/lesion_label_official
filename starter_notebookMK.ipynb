{
 "cells": [
  {
   "cell_type": "markdown",
   "metadata": {},
   "source": [
    "# The important parts of the code"
   ]
  },
  {
   "cell_type": "markdown",
   "metadata": {},
   "source": [
    "## Command imports"
   ]
  },
  {
   "cell_type": "code",
   "execution_count": 1,
   "metadata": {
    "collapsed": false
   },
   "outputs": [
    {
     "name": "stdout",
     "output_type": "stream",
     "text": [
      "Populating the interactive namespace from numpy and matplotlib\n"
     ]
    }
   ],
   "source": [
    "%pylab inline \n",
    "import os\n",
    "import nibabel as nib\n",
    "import numpy as np\n",
    "import glob\n",
    "import random\n",
    "import math\n",
    "from scipy.ndimage import label\n",
    "from numpy.linalg import inv"
   ]
  },
  {
   "cell_type": "markdown",
   "metadata": {},
   "source": [
    "## Import mse IDs "
   ]
  },
  {
   "cell_type": "code",
   "execution_count": 2,
   "metadata": {
    "collapsed": false
   },
   "outputs": [
    {
     "name": "stdout",
     "output_type": "stream",
     "text": [
      "['mse1406']\n"
     ]
    }
   ],
   "source": [
    "#subjects = np.genfromtxt(\"pbr_baselines.txt\", dtype=str)\n",
    "subjects = [\"mse1406\"]\n",
    "all_sub_results = [[\"mseID\",\n",
    "                   \"lesion number and type\",      \n",
    "                   \"number of subcortical lesions\",\n",
    "                   \"number of juxtacortical lesions\",\n",
    "                   \"number of periventricular lesions\",\n",
    "                   \"number of infratentorial lesions\"]]\n",
    "print subjects[:5]"
   ]
  },
  {
   "cell_type": "markdown",
   "metadata": {},
   "source": [
    "## Set variables to lesion/segmentation files, freeview cmdline copy and paste"
   ]
  },
  {
   "cell_type": "code",
   "execution_count": 3,
   "metadata": {
    "collapsed": false
   },
   "outputs": [
    {
     "name": "stdout",
     "output_type": "stream",
     "text": [
      "/data/henry7/PBR/subjects/mse1406/lesions_manual/ms172-mse1406-002-AX_T1_3D_IRSPGR/alignment_lesions.nii.gz\n",
      "/data/henry7/PBR/subjects/mse1406/masks/ms172-mse1406-002-AX_T1_3D_IRSPGR/segmentation.nii.gz\n",
      "/data/henry6/PBR/surfaces/ms172-mse1406-002-AX_T1_3D_IRSPGR/mri/ribbon.mgz\n",
      "\n",
      "Freeview link:\n",
      "\n",
      "freeview /data/henry7/PBR/subjects/mse1406/masks/ms172-mse1406-002-AX_T1_3D_IRSPGR/segmentation.nii.gz /data/henry7/PBR/subjects/mse1406/lesions_manual/ms172-mse1406-002-AX_T1_3D_IRSPGR/alignment_lesions.nii.gz /data/henry6/PBR/surfaces/ms172-mse1406-002-AX_T1_3D_IRSPGR/mri/ribbon.mgz\n"
     ]
    }
   ],
   "source": [
    "for les_file in glob.glob(\"/data/henry7/PBR/subjects/%s/lesions_manual/*/alignment_lesions.nii.gz\" % subjects[0]):\n",
    "    print les_file\n",
    "for seg_file in glob.glob(\"/data/henry7/PBR/subjects/%s/masks/*/segmentation.nii.gz\" % subjects[0]):\n",
    "    print seg_file\n",
    "for gm_file in glob.glob(\"/data/henry6/PBR/surfaces/*%s*/mri/ribbon.mgz\" % subjects[0]):\n",
    "    print gm_file\n",
    "\n",
    "print\n",
    "print \"Freeview link:\"\n",
    "print \n",
    "print \"freeview\", seg_file, les_file, gm_file"
   ]
  },
  {
   "cell_type": "markdown",
   "metadata": {},
   "source": [
    "## Obtain affines "
   ]
  },
  {
   "cell_type": "code",
   "execution_count": 4,
   "metadata": {
    "collapsed": false
   },
   "outputs": [
    {
     "name": "stdout",
     "output_type": "stream",
     "text": [
      "(256, 256, 149)\n",
      "(256, 256, 256)\n",
      "(256, 256, 256)\n",
      "[[  -0.9375        0.            0.          121.8730011 ]\n",
      " [   0.            0.9375        0.          -86.33650208]\n",
      " [   0.            0.            1.          -60.81729889]\n",
      " [   0.            0.            0.            1.        ]]\n",
      "[[  -1.            0.            0.          129.8730011 ]\n",
      " [   0.            0.            1.          -94.33650208]\n",
      " [   0.           -1.            0.          157.18270111]\n",
      " [   0.            0.            0.            1.        ]]\n",
      "[[  -1.            0.            0.          129.8730011 ]\n",
      " [   0.            0.            1.          -94.33650208]\n",
      " [   0.           -1.            0.          157.18270874]\n",
      " [   0.            0.            0.            1.        ]]\n",
      "[[  -1.           -0.           -0.          129.8730011 ]\n",
      " [  -0.           -0.           -1.          157.18270874]\n",
      " [   0.            1.            0.           94.33650208]\n",
      " [   0.            0.            0.            1.        ]]\n"
     ]
    }
   ],
   "source": [
    "# les corresponds to lesion file\n",
    "# \n",
    "# seg corresponds to segmentation file (important for midbrain and ventricular structures, \n",
    "# plus real space conversion)\n",
    "#\n",
    "# gm corresponds to ribbon file that gives gray matter coordinates\n",
    "\n",
    "les_img = nib.load(les_file)\n",
    "les_img.dataobj\n",
    "seg_img = nib.load(seg_file)\n",
    "seg_img.dataobj\n",
    "gm_img = nib.load(gm_file)\n",
    "gm_img.dataobj\n",
    "\n",
    "les_data = les_img.get_data()\n",
    "print les_data.shape\n",
    "seg_data = seg_img.get_data()\n",
    "print seg_data.shape\n",
    "gm_data = gm_img.get_data()\n",
    "print gm_data.shape\n",
    "\n",
    "les_affine = les_img.get_affine()\n",
    "print les_affine\n",
    "gm_affine = gm_img.get_affine()\n",
    "print gm_affine\n",
    "seg_affine = seg_img.get_affine()\n",
    "print seg_affine\n",
    "inv_seg_affine = np.linalg.inv(seg_affine)\n",
    "print inv_seg_affine"
   ]
  },
  {
   "cell_type": "markdown",
   "metadata": {},
   "source": [
    "## Set labels for structure's coordinates"
   ]
  },
  {
   "cell_type": "code",
   "execution_count": 5,
   "metadata": {
    "collapsed": false
   },
   "outputs": [],
   "source": [
    "#lesion labels\n",
    "les_labels, n_les_labels = label(les_data==[1])\n",
    "\n",
    "#segmentation - brainstem labels\n",
    "seg_brainstem_labels, n_seg_brainstem_labels = label(seg_data==[16])\n",
    "seg_lcerebellumcortex_labels, n_seg_lcerebellumcortex_labels = label(seg_data==[8])\n",
    "seg_rcerebellumcortex_labels, n_seg_rcerebellumcortex_labels = label(seg_data==[47])\n",
    "seg_lcerebellumwm_labels, n_seg_lcerebellumwm_labels = label(seg_data==[7])\n",
    "seg_rcerebellumwm_labels, n_seg_rcerebellumwm_labels = label(seg_data==[46])\n",
    "\n",
    "#segmentation - lateral ventricle labels\n",
    "seg_llv_labels, n_seg_llv_labels = label(seg_data==[4])\n",
    "seg_rlv_labels, n_seg_rlv_labels = label(seg_data==[43])\n",
    "\n",
    "#gm labels\n",
    "gm_lh_labels, n_gm_lh_labels = label(gm_data==3)\n",
    "gm_rh_labels, n_gm_rh_labels = label(gm_data==42)"
   ]
  },
  {
   "cell_type": "markdown",
   "metadata": {},
   "source": [
    "### debugging tools for labels"
   ]
  },
  {
   "cell_type": "markdown",
   "metadata": {
    "collapsed": false
   },
   "source": [
    "print n_les_labels #prints number of lesion labels\n",
    "\n",
    "print n_seg_brainstem_labels #prints number of labels in brainstem\n",
    "\n",
    "print n_gm_lh_labels #prints number of labels in gray matter\n",
    "\n",
    "print n_seg_llv_labels #prints number of labels in ventricle\n",
    "\n",
    "print np.bincount(les_labels.ravel()) #prints volumes of lesions\n",
    "\n",
    "print np.bincount(seg_lcerebellumwm_labels.ravel()) #prints volume of left cerebellum white matter\n",
    "\n",
    "print np.bincount(gm_lh_labels.ravel()) #prints volume of left hemisphere gray matter\n",
    "\n",
    "print np.bincount(seg_llv_labels.ravel()) #prints volume of left hemisphere ventricle"
   ]
  },
  {
   "cell_type": "markdown",
   "metadata": {},
   "source": [
    "## Function that gets coordinates from labels"
   ]
  },
  {
   "cell_type": "code",
   "execution_count": 6,
   "metadata": {
    "collapsed": false
   },
   "outputs": [],
   "source": [
    "def get_label_coord(labels,num_labels):\n",
    "    all_label_coords = []\n",
    "    if num_labels >= 1:\n",
    "        for count in range(1, num_labels+1):\n",
    "            cur_label_coords = []\n",
    "            x,y,z = np.nonzero(labels==count)\n",
    "            for count2 in range(len(x)):\n",
    "                cur_coord = [x[count2],y[count2],z[count2]]\n",
    "                cur_label_coords.append(cur_coord)\n",
    "            all_label_coords.append(cur_label_coords)\n",
    "    else:\n",
    "        x,y,z = np.nonzero(labels==1)\n",
    "        for count in range(len(x)):\n",
    "            all_label_coords.append([x[count],y[count],z[count]])\n",
    "    #for count in range(nlabels):\n",
    "    #    print \"lesion #\", count+1, \"\", all_les_coords[count]\n",
    "    #    print \"\"\n",
    "    return all_label_coords"
   ]
  },
  {
   "cell_type": "markdown",
   "metadata": {},
   "source": [
    "## Function that converts coordinates to real space"
   ]
  },
  {
   "cell_type": "code",
   "execution_count": 7,
   "metadata": {
    "collapsed": true
   },
   "outputs": [],
   "source": [
    "def get_rs_coord(coordinates,affine):\n",
    "    all_rs_coords = []\n",
    "    for count in range(len(coordinates)):\n",
    "        cur_rs_coords = []\n",
    "        for count2 in range(len(coordinates[count])):\n",
    "            rs_coord = np.dot(affine, [coordinates[count][count2][0],\n",
    "                                           coordinates[count][count2][1], \n",
    "                                           coordinates[count][count2][2],\n",
    "                                           1])\n",
    "            rs_coord_noone = [rs_coord[0],rs_coord[1],rs_coord[2]] #raw float\n",
    "            #rs_coord_noone = [round(rs_coord[0],2),round(rs_coord[1],2),round(rs_coord[2],2)] #two decimal float\n",
    "            #rs_coord_noone = [int(rs_coord[0]),int(rs_coord[1]),int(rs_coord[2])] #integers\n",
    "            cur_rs_coords.append(rs_coord_noone)\n",
    "        all_rs_coords.append(cur_rs_coords)\n",
    "    #for count in range(nlabels):\n",
    "    #    print \"lesion #\", count+1, \"\", all_rs_coords[count]\n",
    "    #    print \"\"\n",
    "    return all_rs_coords"
   ]
  },
  {
   "cell_type": "markdown",
   "metadata": {},
   "source": [
    "## Function that converts coordinates to segmentation file coordinates"
   ]
  },
  {
   "cell_type": "code",
   "execution_count": 8,
   "metadata": {
    "collapsed": true
   },
   "outputs": [],
   "source": [
    "def get_seg_coord(coordinates):\n",
    "    all_seg_coords = []\n",
    "    for count in range(len(coordinates)):\n",
    "        cur_seg_coords = []\n",
    "        for count2 in range(len(coordinates[count])):\n",
    "            seg_coord = np.dot(inv_seg_affine, [coordinates[count][count2][0],\n",
    "                                                coordinates[count][count2][1], \n",
    "                                                coordinates[count][count2][2],\n",
    "                                                1])\n",
    "            #seg_coord_noone = [seg_coord[0],seg_coord[1],seg_coord[2]] #raw float\n",
    "            #seg_coord_noone = [round(seg_coord[0],2),round(seg_coord[1],2),round(seg_coord[2],2)] #two decimal float\n",
    "            seg_coord_noone = [int(seg_coord[0]),int(seg_coord[1]),int(seg_coord[2])] #integers\n",
    "            cur_seg_coords.append(seg_coord_noone)\n",
    "        all_seg_coords.append(cur_seg_coords)\n",
    "    #for count in range(nlabels):\n",
    "    #    print \"lesion #\", count+1, \"\", all_seg_coords[count]\n",
    "    #    print \"\"\n",
    "    return all_seg_coords"
   ]
  },
  {
   "cell_type": "markdown",
   "metadata": {},
   "source": [
    "## Generate midbrain coordinates into a variable"
   ]
  },
  {
   "cell_type": "code",
   "execution_count": 9,
   "metadata": {
    "collapsed": false
   },
   "outputs": [],
   "source": [
    "bs = get_label_coord(seg_brainstem_labels,n_seg_brainstem_labels)\n",
    "lcc = get_label_coord(seg_lcerebellumcortex_labels,n_seg_lcerebellumcortex_labels)\n",
    "lcw = get_label_coord(seg_lcerebellumwm_labels,n_seg_lcerebellumwm_labels)\n",
    "rcc = get_label_coord(seg_rcerebellumcortex_labels,n_seg_rcerebellumcortex_labels)\n",
    "rcw = get_label_coord(seg_rcerebellumwm_labels,n_seg_rcerebellumwm_labels)\n",
    "\n",
    "midbrain_tmp = []\n",
    "midbrain = []\n",
    "\n",
    "if len(bs) != 1:\n",
    "    midbrain_tmp.append(bs[1])\n",
    "else:\n",
    "    midbrain_tmp.append(bs[0])\n",
    "\n",
    "if len(lcc) != 1:\n",
    "    midbrain_tmp.append(lcc[1])\n",
    "else:\n",
    "    midbrain_tmp.append(lcc[0])\n",
    "\n",
    "if len(lcw) != 1:\n",
    "    midbrain_tmp.append(lcw[1])\n",
    "else:\n",
    "    midbrain_tmp.append(lcw[0])\n",
    "\n",
    "if len(rcc) != 1:\n",
    "    midbrain_tmp.append(rcc[1])\n",
    "else:\n",
    "    midbrain_tmp.append(rcc[0])\n",
    "\n",
    "if len(rcw) != 1:\n",
    "    midbrain_tmp.append(rcw[1])\n",
    "else:\n",
    "    midbrain_tmp.append(rcw[0])\n",
    "\n",
    "for x in range(len(midbrain_tmp)):\n",
    "    for y in range(len(midbrain_tmp[x])):\n",
    "        midbrain.append(midbrain_tmp[x][y])\n",
    "        "
   ]
  },
  {
   "cell_type": "markdown",
   "metadata": {},
   "source": [
    "## Generate gray matter coordinates into a variable"
   ]
  },
  {
   "cell_type": "code",
   "execution_count": 10,
   "metadata": {
    "collapsed": false
   },
   "outputs": [],
   "source": [
    "gm = []\n",
    "lhcoord = get_label_coord(gm_lh_labels,n_gm_lh_labels)\n",
    "rhcoord = get_label_coord(gm_rh_labels,n_gm_rh_labels)\n",
    "lhcoord_seg = get_seg_coord(get_rs_coord(lhcoord,gm_affine))\n",
    "rhcoord_seg = get_seg_coord(get_rs_coord(rhcoord,gm_affine))\n",
    "\n",
    "for x in range(len(lhcoord_seg[0])):\n",
    "    gm.append(lhcoord_seg[0][x])\n",
    "for x in range(len(rhcoord_seg[0])):\n",
    "    gm.append(rhcoord_seg[0][x])"
   ]
  },
  {
   "cell_type": "markdown",
   "metadata": {},
   "source": [
    "## Generate ventricular coordinates into a variable"
   ]
  },
  {
   "cell_type": "code",
   "execution_count": 11,
   "metadata": {
    "collapsed": false
   },
   "outputs": [],
   "source": [
    "ventricles_tmp = []\n",
    "ventricles = []\n",
    "vlhcoord = get_label_coord(seg_llv_labels,n_seg_llv_labels)\n",
    "vrhcoord = get_label_coord(seg_rlv_labels,n_seg_rlv_labels)\n",
    "\n",
    "if len(vlhcoord) != 1:\n",
    "    ventricles_tmp.append(vlhcoord[1])\n",
    "else:\n",
    "    ventricles_tmp.append(vlhcoord[0])\n",
    "if len(vrhcoord) != 1:\n",
    "    ventricles_tmp.append(vrhcoord[1])\n",
    "else:\n",
    "    ventricles_tmp.append(vrhcoord[0])\n",
    "\n",
    "for x in range(len(ventricles_tmp)):\n",
    "    for y in range(len(ventricles_tmp[x])):\n",
    "        ventricles.append(ventricles_tmp[x][y])"
   ]
  },
  {
   "cell_type": "markdown",
   "metadata": {},
   "source": [
    "## Generate lesion coordinates into a variable"
   ]
  },
  {
   "cell_type": "code",
   "execution_count": 12,
   "metadata": {
    "collapsed": false
   },
   "outputs": [],
   "source": [
    "lesions_les = get_label_coord(les_labels,n_les_labels)\n",
    "lesions = get_seg_coord(get_rs_coord(lesions_les,les_affine))\n",
    "lesions_seg = lesions"
   ]
  },
  {
   "cell_type": "markdown",
   "metadata": {},
   "source": [
    "## Generate random coordinates from each structure"
   ]
  },
  {
   "cell_type": "code",
   "execution_count": 14,
   "metadata": {
    "collapsed": false
   },
   "outputs": [],
   "source": [
    "gm_test = []\n",
    "mb_test = []\n",
    "v_test = []\n",
    "randcount = 5000 #variable count of \n",
    "\n",
    "def random_samp(lst,count):\n",
    "    randlst = []\n",
    "    for x in range(count):\n",
    "        randlst.append(lst[random.randrange(0,len(lst))])\n",
    "    return randlst\n",
    "\n",
    "gm_test = random_samp(gm,randcount)\n",
    "mb_test = random_samp(midbrain,randcount)\n",
    "v_test = random_samp(ventricles,randcount)"
   ]
  },
  {
   "cell_type": "markdown",
   "metadata": {},
   "source": [
    "## Function that takes average of lesion coordinates"
   ]
  },
  {
   "cell_type": "code",
   "execution_count": 15,
   "metadata": {
    "collapsed": false
   },
   "outputs": [
    {
     "name": "stdout",
     "output_type": "stream",
     "text": [
      "[[88, 124, 96], [99, 134, 79], [100, 133, 147], [101, 143, 62], [102, 151, 64], [108, 141, 158], [110, 156, 148], [115, 105, 141], [126, 193, 104], [136, 121, 108], [145, 141, 156], [144, 96, 132], [146, 131, 68], [150, 123, 90], [152, 138, 60], [155, 150, 153], [159, 154, 69]]\n",
      "[86, 158, 53]\n",
      "[113, 181, 80]\n",
      "[99, 134, 79]\n",
      "442946\n",
      "130947\n",
      "45254\n"
     ]
    }
   ],
   "source": [
    "def average_func(coordinates):\n",
    "    sumx=0;sumy=0;sumz=0\n",
    "    for count in range(len(coordinates)):\n",
    "        sumx += coordinates[count][0]\n",
    "        sumy += coordinates[count][1]\n",
    "        sumz += coordinates[count][2]\n",
    "    average_x = sumx / len(coordinates)\n",
    "    average_y = sumy / len(coordinates)\n",
    "    average_z = sumz / len(coordinates)\n",
    "    #print count, averages\n",
    "    return [average_x, average_y, average_z]\n",
    "\n",
    "les_averages = []\n",
    "for x in range(len(lesions)):\n",
    "    les_averages.append(average_func(lesions[x]))\n",
    "print les_averages\n",
    "\n",
    "print les_averages[1]\n",
    "print len(gm)\n",
    "print len(midbrain)\n",
    "print len(ventricles)"
   ]
  },
  {
   "cell_type": "markdown",
   "metadata": {},
   "source": [
    "## Euclidean distance determination function "
   ]
  },
  {
   "cell_type": "code",
   "execution_count": 16,
   "metadata": {
    "collapsed": true
   },
   "outputs": [],
   "source": [
    "def dist_det(struc_coord, lesion_coord):\n",
    "    dist_list = []\n",
    "    for x in range(len(struc_coord)):\n",
    "        dist_list.append(math.sqrt((struc_coord[x][0] - lesion_coord[0]) ** 2 +\n",
    "                                   (struc_coord[x][1] - lesion_coord[1]) ** 2 +\n",
    "                                   (struc_coord[x][2] - lesion_coord[2]) ** 2))\n",
    "    return dist_list"
   ]
  },
  {
   "cell_type": "markdown",
   "metadata": {},
   "source": [
    "## Classifying lesions by lowest Euclidean distance"
   ]
  },
  {
   "cell_type": "code",
   "execution_count": 17,
   "metadata": {
    "collapsed": false
   },
   "outputs": [
    {
     "name": "stdout",
     "output_type": "stream",
     "text": [
      "[88, 124, 96] 0 juxtacortical 0.0 43.4741302386 17.2626765016\n",
      "[99, 134, 79] 1 periventricular 6.40312423743 32.3882694814 4.12310562562\n",
      "[100, 133, 147] 2 juxtacortical 3.0 51.0392006207 11.0453610172\n",
      "[101, 143, 62] 3 juxtacortical 2.44948974278 27.3861278753 13.0384048104\n",
      "[102, 151, 64] 4 juxtacortical 0.0 19.3390796058 12.2474487139\n",
      "[108, 141, 158] 5 periventricular 5.83095189485 52.7067358124 3.31662479036\n",
      "[110, 156, 148] 6 juxtacortical 1.0 36.7831483155 6.40312423743\n",
      "[115, 105, 141] 7 juxtacortical 2.82842712475 60.2992537267 21.8403296678\n",
      "[126, 193, 104] 8 infratentorial 21.3775583264 0.0 44.2944691807\n",
      "[136, 121, 108] 9 periventricular 4.12310562562 33.2415402772 2.0\n",
      "[145, 141, 156] 10 periventricular 6.16441400297 50.219518118 0.0\n",
      "[144, 96, 132] 11 juxtacortical 0.0 64.8999229584 27.4590604355\n",
      "[146, 131, 68] 12 periventricular 3.46410161514 30.0166620396 5.38516480713\n",
      "[150, 123, 90] 13 periventricular 7.81024967591 35.5949434611 2.2360679775\n",
      "[152, 138, 60] 14 subcortical 4.12310562562 30.7245829915 7.0\n",
      "[155, 150, 153] 15 juxtacortical 2.44948974278 45.4532727095 6.40312423743\n",
      "[159, 154, 69] 16 periventricular 4.24264068712 18.1934053987 0.0\n"
     ]
    }
   ],
   "source": [
    "min_val_jux = 3.0    #threshold for juxtacortical lesion's distance to gray matter\n",
    "min_val_per = 6.0    #threahold for periventricular lesion's distance to ventricle\n",
    "min_val_mb = 6.0     #threshold for infratentorial lesion's distance to midbrain\n",
    "les_type = []\n",
    "\n",
    "#if we wish to use random numbers:\n",
    "\n",
    "#for x in range(len(les_averages)):\n",
    "#    gm_min = np.min(dist_det(gm_test,les_averages[x]))\n",
    "#    mb_min = np.min(dist_det(mb_test,les_averages[x]))\n",
    "#    v_min = np.min(dist_det(v_test,les_averages[x]))\n",
    "#    if gm_min <= min_val_jux and gm_min <= mb_min and gm_min <= v_min:\n",
    "#        lesion_type = \"juxtacortical\"\n",
    "#    elif v_min <= min_val_per and v_min <= mb_min:\n",
    "#        lesion_type = \"periventricular\"\n",
    "#    elif mb_min <= min_val_mb:\n",
    "#        lesion_type = \"infratentorial\"\n",
    "#    else:\n",
    "#        lesion_type = \"subcortical\"\n",
    "#    print les_averages[x], x, lesion_type, gm_min, mb_min, v_min\n",
    "#\n",
    "#print    \n",
    "\n",
    "#if we wish to use all plots in each structure\n",
    "for x in range(len(les_averages)):\n",
    "    gm_min = np.min(dist_det(gm,les_averages[x]))\n",
    "    mb_min = np.min(dist_det(midbrain,les_averages[x]))\n",
    "    v_min = np.min(dist_det(ventricles,les_averages[x]))\n",
    "    if gm_min <= min_val_jux and gm_min <= mb_min and gm_min <= v_min:\n",
    "        lesion_type = \"juxtacortical\"\n",
    "    elif v_min <= min_val_per and v_min <= mb_min:\n",
    "        lesion_type = \"periventricular\"\n",
    "    elif mb_min <= min_val_mb:\n",
    "        lesion_type = \"infratentorial\"\n",
    "    else:\n",
    "        lesion_type = \"subcortical\"\n",
    "    print les_averages[x], x, lesion_type, gm_min, mb_min, v_min\n",
    "    les_type.append(lesion_type)\n",
    "    "
   ]
  },
  {
   "cell_type": "markdown",
   "metadata": {},
   "source": [
    "## Append results to running list "
   ]
  },
  {
   "cell_type": "code",
   "execution_count": 18,
   "metadata": {
    "collapsed": false
   },
   "outputs": [
    {
     "name": "stdout",
     "output_type": "stream",
     "text": [
      "[['mseID', 'lesion number and type', 'number of subcortical lesions', 'number of juxtacortical lesions', 'number of periventricular lesions', 'number of infratentorial lesions'], ['mse1406', [[1, 'juxtacortical'], [2, 'periventricular'], [3, 'juxtacortical'], [4, 'juxtacortical'], [5, 'juxtacortical'], [6, 'periventricular'], [7, 'juxtacortical'], [8, 'juxtacortical'], [9, 'infratentorial'], [10, 'periventricular'], [11, 'periventricular'], [12, 'juxtacortical'], [13, 'periventricular'], [14, 'periventricular'], [15, 'subcortical'], [16, 'juxtacortical'], [17, 'periventricular']], 1, 8, 7, 1]]\n"
     ]
    }
   ],
   "source": [
    "results = []\n",
    "sub_count, inf_count, jux_count, per_count, err_count = 0, 0, 0, 0, 0\n",
    "for count in range(len(les_type)):\n",
    "    results.append([count+1, les_type[count]])\n",
    "    if les_type[count] == \"subcortical\":\n",
    "        sub_count += 1\n",
    "    elif les_type[count] == \"infratentorial\":\n",
    "        inf_count += 1\n",
    "    elif les_type[count] == \"juxtacortical\":\n",
    "        jux_count += 1\n",
    "    elif les_type[count] == \"periventricular\":\n",
    "        per_count += 1\n",
    "all_sub_results.append([subjects[0], \n",
    "                        results, \n",
    "                        sub_count, \n",
    "                        jux_count,\n",
    "                        per_count,\n",
    "                        inf_count]\n",
    "                      )\n",
    "print all_sub_results"
   ]
  },
  {
   "cell_type": "code",
   "execution_count": null,
   "metadata": {
    "collapsed": false
   },
   "outputs": [],
   "source": []
  }
 ],
 "metadata": {
  "kernelspec": {
   "display_name": "Python 2",
   "language": "python",
   "name": "python2"
  },
  "language_info": {
   "codemirror_mode": {
    "name": "ipython",
    "version": 2
   },
   "file_extension": ".py",
   "mimetype": "text/x-python",
   "name": "python",
   "nbconvert_exporter": "python",
   "pygments_lexer": "ipython2",
   "version": "2.7.11"
  }
 },
 "nbformat": 4,
 "nbformat_minor": 0
}
