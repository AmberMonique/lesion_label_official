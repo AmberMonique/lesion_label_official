{
 "cells": [
  {
   "cell_type": "markdown",
   "metadata": {},
   "source": [
    "## Command imports"
   ]
  },
  {
   "cell_type": "code",
   "execution_count": 103,
   "metadata": {
    "collapsed": false
   },
   "outputs": [
    {
     "name": "stdout",
     "output_type": "stream",
     "text": [
      "Populating the interactive namespace from numpy and matplotlib\n"
     ]
    }
   ],
   "source": [
    "%pylab inline \n",
    "import os\n",
    "import nibabel as nib\n",
    "import numpy as np\n",
    "import glob\n",
    "from scipy.ndimage import label\n",
    "from numpy.linalg import inv"
   ]
  },
  {
   "cell_type": "markdown",
   "metadata": {},
   "source": [
    "## Import mse IDs "
   ]
  },
  {
   "cell_type": "code",
   "execution_count": 104,
   "metadata": {
    "collapsed": false
   },
   "outputs": [
    {
     "name": "stdout",
     "output_type": "stream",
     "text": [
      "['mse1343']\n"
     ]
    }
   ],
   "source": [
    "#subjects = np.genfromtxt(\"pbr_baselines.txt\", dtype=str)\n",
    "subjects = [\"mse1343\"]\n",
    "results_dict = {\"mseID\":[\"lesion number and type\",\n",
    "                         \"number of subcortical lesions\",\n",
    "                         \"number of juxtacortical lesions\",\n",
    "                         \"number of periventricular lesions\",\n",
    "                         \"number of infratentorial lesions\",\n",
    "                         \"number of errors\"]}\n",
    "print subjects[:5]"
   ]
  },
  {
   "cell_type": "markdown",
   "metadata": {},
   "source": [
    "## Set variables to lesion/segmentation files"
   ]
  },
  {
   "cell_type": "code",
   "execution_count": 105,
   "metadata": {
    "collapsed": false
   },
   "outputs": [
    {
     "name": "stdout",
     "output_type": "stream",
     "text": [
      "/data/henry7/PBR/subjects/mse1343/lesions_manual/ms69-mse1343-002-AX_T1_3D_IRSPGR/alignment_lesions.nii.gz\n",
      "/data/henry7/PBR/subjects/mse1343/masks/ms69-mse1343-002-AX_T1_3D_IRSPGR/segmentation.nii.gz\n",
      "/data/henry7/PBR/subjects/mse1343/masks/ms69-mse1343-002-AX_T1_3D_IRSPGR/segmentation.nii.gz /data/henry7/PBR/subjects/mse1343/lesions_manual/ms69-mse1343-002-AX_T1_3D_IRSPGR/alignment_lesions.nii.gz\n"
     ]
    }
   ],
   "source": [
    "for les_file in glob.glob(\"/data/henry7/PBR/subjects/%s/lesions_manual/*/alignment_lesions.nii.gz\" % subjects[0]):\n",
    "    print les_file\n",
    "for seg_file in glob.glob(\"/data/henry7/PBR/subjects/%s/masks/*/segmentation.nii.gz\" % subjects[0]):\n",
    "    print seg_file\n",
    "    \n",
    "print seg_file, les_file"
   ]
  },
  {
   "cell_type": "markdown",
   "metadata": {},
   "source": [
    "## Obtain affines "
   ]
  },
  {
   "cell_type": "code",
   "execution_count": 106,
   "metadata": {
    "collapsed": false
   },
   "outputs": [
    {
     "name": "stdout",
     "output_type": "stream",
     "text": [
      "(256, 256, 150)\n",
      "(256, 256, 256)\n",
      "[[  -0.9375        0.            0.          118.36100006]\n",
      " [   0.            0.9375        0.          -74.62950134]\n",
      " [   0.            0.            1.          -27.06119919]\n",
      " [   0.            0.            0.            1.        ]]\n",
      "[[  -1.            0.            0.          126.36100769]\n",
      " [   0.            0.            1.          -82.62950134]\n",
      " [   0.           -1.            0.          182.938797  ]\n",
      " [   0.            0.            0.            1.        ]]\n",
      "[[  -1.           -0.           -0.          126.36100769]\n",
      " [  -0.           -0.           -1.          182.938797  ]\n",
      " [   0.            1.            0.           82.62950134]\n",
      " [   0.            0.            0.            1.        ]]\n"
     ]
    }
   ],
   "source": [
    "les_img = nib.load(les_file)\n",
    "les_img.dataobj\n",
    "seg_img = nib.load(seg_file)\n",
    "seg_img.dataobj\n",
    "\n",
    "les_data = les_img.get_data()\n",
    "print les_data.shape\n",
    "seg_data = seg_img.get_data()\n",
    "print seg_data.shape\n",
    "\n",
    "les_affine = les_img.get_affine()\n",
    "print les_affine\n",
    "seg_affine = seg_img.get_affine()\n",
    "print seg_affine\n",
    "inv_seg_affine = np.linalg.inv(seg_affine)\n",
    "print inv_seg_affine"
   ]
  },
  {
   "cell_type": "markdown",
   "metadata": {},
   "source": [
    "## set labels for coordinates"
   ]
  },
  {
   "cell_type": "code",
   "execution_count": 107,
   "metadata": {
    "collapsed": true
   },
   "outputs": [],
   "source": [
    "#lesion labels\n",
    "les_labels, n_les_labels = label(les_data==[1])\n",
    "\n",
    "#segmentation labels\n",
    "seg_brainstem_labels, n_seg_brainstem_labels = label(seg_data==[16])\n",
    "seg_lcerebellumcortex_labels, n_seg_lcerebellumcortex_labels = label(seg_data==[8])\n",
    "seg_rcerebellumcortex_labels, n_seg_rcerebellumcortex_labels = label(seg_data==[47])\n",
    "seg_lcerebellumwm_labels, n_seg_lcerebellumwm_labels = label(seg_data==[7])\n",
    "seg_rcerebellumwm_labels, n_seg_rcerebellumwm_labels = label(seg_data==[46])"
   ]
  },
  {
   "cell_type": "markdown",
   "metadata": {},
   "source": [
    "## debugging tools for labels"
   ]
  },
  {
   "cell_type": "code",
   "execution_count": 108,
   "metadata": {
    "collapsed": false
   },
   "outputs": [
    {
     "name": "stdout",
     "output_type": "stream",
     "text": [
      "14\n",
      "2\n",
      "[9802412      34   10765      30      43     962     608   15063      54\n",
      "     159      36      89      56      33      56]\n",
      "[16762636    14580]\n"
     ]
    }
   ],
   "source": [
    "print n_les_labels #prints number of lesion labels\n",
    "\n",
    "print n_seg_brainstem_labels #prints number of labels in brainstem\n",
    "\n",
    "print np.bincount(les_labels.ravel()) #prints volumes of lesions\n",
    "\n",
    "print np.bincount(seg_lcerebellumwm_labels.ravel()) #prints volume of left cerebellum white matter"
   ]
  },
  {
   "cell_type": "markdown",
   "metadata": {},
   "source": [
    "## Function that gets coordinates from labels"
   ]
  },
  {
   "cell_type": "code",
   "execution_count": 109,
   "metadata": {
    "collapsed": false
   },
   "outputs": [],
   "source": [
    "def get_label_coord(labels,num_labels):\n",
    "    all_label_coords = []\n",
    "    if num_labels >= 1:\n",
    "        for count in range(1, num_labels+1):\n",
    "            cur_label_coords = []\n",
    "            x,y,z = np.nonzero(labels==count)\n",
    "            for count2 in range(len(x)):\n",
    "                cur_coord = [x[count2],y[count2],z[count2]]\n",
    "                cur_label_coords.append(cur_coord)\n",
    "            all_label_coords.append(cur_label_coords)\n",
    "    else:\n",
    "        x,y,z = np.nonzero(labels==1)\n",
    "        for count in range(len(x)):\n",
    "            all_label_coords.append([x[count],y[count],z[count]])\n",
    "    #for count in range(nlabels):\n",
    "    #    print \"lesion #\", count+1, \"\", all_les_coords[count]\n",
    "    #    print \"\"\n",
    "    return all_label_coords"
   ]
  },
  {
   "cell_type": "markdown",
   "metadata": {},
   "source": [
    "## Function that converts coordinates to real space"
   ]
  },
  {
   "cell_type": "code",
   "execution_count": 110,
   "metadata": {
    "collapsed": true
   },
   "outputs": [],
   "source": [
    "def get_rs_coord(coordinates):\n",
    "    all_rs_coords = []\n",
    "    for count in range(len(coordinates)):\n",
    "        cur_rs_coords = []\n",
    "        for count2 in range(len(coordinates[count])):\n",
    "            rs_coord = np.dot(les_affine, [coordinates[count][count2][0],\n",
    "                                           coordinates[count][count2][1], \n",
    "                                           coordinates[count][count2][2],\n",
    "                                           1])\n",
    "            rs_coord_noone = [rs_coord[0],rs_coord[1],rs_coord[2]] #raw float\n",
    "            #rs_coord_noone = [round(rs_coord[0],2),round(rs_coord[1],2),round(rs_coord[2],2)] #two decimal float\n",
    "            #rs_coord_noone = [int(rs_coord[0]),int(rs_coord[1]),int(rs_coord[2])] #integers\n",
    "            cur_rs_coords.append(rs_coord_noone)\n",
    "        all_rs_coords.append(cur_rs_coords)\n",
    "    #for count in range(nlabels):\n",
    "    #    print \"lesion #\", count+1, \"\", all_rs_coords[count]\n",
    "    #    print \"\"\n",
    "    return all_rs_coords"
   ]
  },
  {
   "cell_type": "markdown",
   "metadata": {},
   "source": [
    "## Function that converts coordinates to segmentation file coordinates"
   ]
  },
  {
   "cell_type": "code",
   "execution_count": 111,
   "metadata": {
    "collapsed": true
   },
   "outputs": [],
   "source": [
    "def get_seg_coord(coordinates):\n",
    "    all_seg_coords = []\n",
    "    for count in range(len(coordinates)):\n",
    "        cur_seg_coords = []\n",
    "        for count2 in range(len(coordinates[count])):\n",
    "            seg_coord = np.dot(inv_seg_affine, [coordinates[count][count2][0],\n",
    "                                                coordinates[count][count2][1], \n",
    "                                                coordinates[count][count2][2],\n",
    "                                                1])\n",
    "            #seg_coord_noone = [seg_coord[0],seg_coord[1],seg_coord[2]] #raw float\n",
    "            #seg_coord_noone = [round(seg_coord[0],2),round(seg_coord[1],2),round(seg_coord[2],2)] #two decimal float\n",
    "            seg_coord_noone = [int(seg_coord[0]),int(seg_coord[1]),int(seg_coord[2])] #integers\n",
    "            cur_seg_coords.append(seg_coord_noone)\n",
    "        all_seg_coords.append(cur_seg_coords)\n",
    "    #for count in range(nlabels):\n",
    "    #    print \"lesion #\", count+1, \"\", all_seg_coords[count]\n",
    "    #    print \"\"\n",
    "    return all_seg_coords"
   ]
  },
  {
   "cell_type": "markdown",
   "metadata": {},
   "source": [
    "## Generate midbrain coordinates into a variable"
   ]
  },
  {
   "cell_type": "code",
   "execution_count": 112,
   "metadata": {
    "collapsed": false
   },
   "outputs": [
    {
     "name": "stdout",
     "output_type": "stream",
     "text": [
      "5\n"
     ]
    }
   ],
   "source": [
    "midbrain_int = []\n",
    "bs = get_label_coord(seg_brainstem_labels,n_seg_brainstem_labels)\n",
    "lcc = get_label_coord(seg_lcerebellumcortex_labels,n_seg_lcerebellumcortex_labels)\n",
    "lcw = get_label_coord(seg_lcerebellumwm_labels,n_seg_lcerebellumwm_labels)\n",
    "rcc = get_label_coord(seg_rcerebellumcortex_labels,n_seg_rcerebellumcortex_labels)\n",
    "rcw = get_label_coord(seg_rcerebellumwm_labels,n_seg_rcerebellumwm_labels)\n",
    "\n",
    "midbrain = []\n",
    "midbrainparts = [brainstem, lcercort, lcerwm, rcercort, rcerwm]\n",
    "\n",
    "if len(bs) != 1:\n",
    "    midbrain.append(bs[1])\n",
    "else:\n",
    "    midbrain.append(bs[0])\n",
    "\n",
    "if len(lcc) != 1:\n",
    "    midbrain.append(lcc[1])\n",
    "else:\n",
    "    midbrain.append(lcc[0])\n",
    "\n",
    "if len(lcw) != 1:\n",
    "    midbrain.append(lcw[1])\n",
    "else:\n",
    "    midbrain.append(lcw[0])\n",
    "\n",
    "if len(rcc) != 1:\n",
    "    midbrain.append(rcc[1])\n",
    "else:\n",
    "    midbrain.append(rcc[0])\n",
    "\n",
    "if len(rcw) != 1:\n",
    "    midbrain.append(rcw[1])\n",
    "else:\n",
    "    midbrain.append(rcw[0])\n",
    "\n",
    "print len(midbrain)\n",
    "\n"
   ]
  },
  {
   "cell_type": "markdown",
   "metadata": {},
   "source": [
    "## Generate lesion coordinates into a variable"
   ]
  },
  {
   "cell_type": "code",
   "execution_count": 113,
   "metadata": {
    "collapsed": false
   },
   "outputs": [
    {
     "data": {
      "text/plain": [
       "'\\nprint len(lesions)\\nprint lesions_seg[0][1]\\nprint lesions_les[7]\\nprint lesions_seg[7]\\nprint lesions_les[7][39]\\nprint lesions_seg[7][39]\\n'"
      ]
     },
     "execution_count": 113,
     "metadata": {},
     "output_type": "execute_result"
    }
   ],
   "source": [
    "lesions = get_seg_coord(get_rs_coord(get_label_coord(les_labels,n_les_labels)))\n",
    "lesions_les = get_label_coord(les_labels,n_les_labels)\n",
    "lesions_seg = lesions\n",
    "\"\"\"\n",
    "print len(lesions)\n",
    "print lesions_seg[0][1]\n",
    "print lesions_les[7]\n",
    "print lesions_seg[7]\n",
    "print lesions_les[7][39]\n",
    "print lesions_seg[7][39]\n",
    "\"\"\""
   ]
  },
  {
   "cell_type": "markdown",
   "metadata": {},
   "source": [
    "## Debugging function that finds range of values in brain lesion/segment"
   ]
  },
  {
   "cell_type": "code",
   "execution_count": 114,
   "metadata": {
    "collapsed": false
   },
   "outputs": [
    {
     "name": "stdout",
     "output_type": "stream",
     "text": [
      "109 - 146\n",
      "148 - 207\n",
      "83 - 117\n"
     ]
    }
   ],
   "source": [
    "test_x = [];test_y=[];test_z=[]\n",
    "for count in range(len(midbrain[0])):\n",
    "    test_x.append(midbrain[0][count][0])\n",
    "    test_y.append(midbrain[0][count][1])\n",
    "    test_z.append(midbrain[0][count][2])\n",
    "\n",
    "def range_coord(val_list):\n",
    "    min_val = min(val_list)\n",
    "    max_val = max(val_list)\n",
    "    print min_val,\"-\", max_val\n",
    "\n",
    "range_coord(test_x);range_coord(test_y);range_coord(test_z)"
   ]
  },
  {
   "cell_type": "markdown",
   "metadata": {},
   "source": [
    "## Debugging Function that searches for coordinates in any given brain lesion/segment"
   ]
  },
  {
   "cell_type": "code",
   "execution_count": 115,
   "metadata": {
    "collapsed": false
   },
   "outputs": [
    {
     "name": "stdout",
     "output_type": "stream",
     "text": [
      "not available\n",
      "not available\n",
      "28\n",
      "39\n",
      "available\n"
     ]
    }
   ],
   "source": [
    "def search(coordinates,check_coord):\n",
    "    number = 0\n",
    "    for count in range(len(coordinates)):\n",
    "        if check_coord == coordinates[count]:\n",
    "            number = count + 1\n",
    "            print count\n",
    "    if number == 0:\n",
    "        print \"not available\"\n",
    "    else:\n",
    "        print \"available\"\n",
    "\n",
    "search(midbrain[0],lesions[7][39])\n",
    "search(midbrain[0],[144, 177, 100])\n",
    "search(lesions[7],lesions[7][39])"
   ]
  },
  {
   "cell_type": "markdown",
   "metadata": {},
   "source": [
    "## Infratentorial Lesion Check"
   ]
  },
  {
   "cell_type": "code",
   "execution_count": 116,
   "metadata": {
    "collapsed": false
   },
   "outputs": [
    {
     "name": "stdout",
     "output_type": "stream",
     "text": [
      "0 done, type is: subcortical\n",
      "skipped lesion number 1 ; too large\n",
      "2 done, type is: subcortical\n",
      "3 done, type is: subcortical\n",
      "skipped lesion number 4 ; too large\n",
      "skipped lesion number 5 ; too large\n",
      "skipped lesion number 6 ; too large\n",
      "7 done, type is: infratentorial\n",
      "8 done, type is: subcortical\n",
      "9 done, type is: subcortical\n",
      "10 done, type is: subcortical\n",
      "11 done, type is: subcortical\n",
      "12 done, type is: subcortical\n",
      "13 done, type is: subcortical\n",
      "['subcortical', 'too large', 'subcortical', 'subcortical', 'too large', 'too large', 'too large', 'infratentorial', 'subcortical', 'subcortical', 'subcortical', 'subcortical', 'subcortical', 'subcortical']\n"
     ]
    }
   ],
   "source": [
    "les_type = []\n",
    "inf_num = 0\n",
    "for count in range(len(lesions)):\n",
    "    lesion_type = \"\"\n",
    "    count4 = 0\n",
    "    if len(lesions[count]) <= 200:\n",
    "        for count2 in range(len(lesions[count])):\n",
    "            halt = \"\"\n",
    "            for count3 in range(len(midbrain)):\n",
    "                for count4 in range(len(midbrain[count3])):\n",
    "                    if lesions[count][count2] == midbrain[count3][count4]:\n",
    "                        lesion_type = \"infratentorial\"\n",
    "                        halt = \"stop\"\n",
    "                    if halt == \"stop\":\n",
    "                        continue\n",
    "                if halt == \"stop\":\n",
    "                    continue\n",
    "            if halt == \"stop\":\n",
    "                continue\n",
    "        if lesion_type == \"\":\n",
    "            lesion_type = \"subcortical\"\n",
    "        print count, \"done, type is:\", lesion_type\n",
    "        les_type.append(lesion_type)\n",
    "    else:\n",
    "        print \"skipped lesion number\", count, \"; too large\"\n",
    "        les_type.append(\"too large\")\n",
    "\n",
    "print les_type"
   ]
  },
  {
   "cell_type": "markdown",
   "metadata": {},
   "source": [
    "## append results to a new list "
   ]
  },
  {
   "cell_type": "code",
   "execution_count": 117,
   "metadata": {
    "collapsed": false
   },
   "outputs": [
    {
     "name": "stdout",
     "output_type": "stream",
     "text": [
      "{'mse1343': ([[0, 'subcortical'], [1, 'too large'], [2, 'subcortical'], [3, 'subcortical'], [4, 'too large'], [5, 'too large'], [6, 'too large'], [7, 'infratentorial'], [8, 'subcortical'], [9, 'subcortical'], [10, 'subcortical'], [11, 'subcortical'], [12, 'subcortical'], [13, 'subcortical']], ['total subcortical', 9], ['total infratentorial', 1], ['total errors', 4]), 'mseID': ['lesion number and type', 'number of subcortical lesions', 'number of juxtacortical lesions', 'number of periventricular lesions', 'number of infratentorial lesions', 'number of errors']}\n"
     ]
    }
   ],
   "source": [
    "results = []\n",
    "sub_count, inf_count, jux_count, per_count, err_count = 0, 0, 0, 0, 0\n",
    "for count in range(len(les_type)):\n",
    "    results.append([count, les_type[count],])\n",
    "    if les_type[count] == \"subcortical\":\n",
    "        sub_count += 1\n",
    "    elif les_type[count] == \"infratentorial\":\n",
    "        inf_count += 1\n",
    "    elif les_type[count] == \"juxtacortical\":\n",
    "        jux_count += 1\n",
    "    elif les_type[count] == \"periventricular\":\n",
    "        per_count += 1\n",
    "    else:\n",
    "        err_count += 1\n",
    "results_dict[subjects[0]] = results, [\"total subcortical\", sub_count], [\"total infratentorial\", inf_count], [\"total errors\", err_count]\n",
    "print results_dict"
   ]
  },
  {
   "cell_type": "markdown",
   "metadata": {},
   "source": [
    "## Attempt at understanding \"any\" function "
   ]
  },
  {
   "cell_type": "code",
   "execution_count": null,
   "metadata": {
    "collapsed": false
   },
   "outputs": [
    {
     "name": "stdout",
     "output_type": "stream",
     "text": [
      "<generator object <genexpr> at 0x7f647eec01e0>\n"
     ]
    }
   ],
   "source": [
    "test = any(count for lesions[7][39] in midbrain)\n",
    "print test"
   ]
  },
  {
   "cell_type": "markdown",
   "metadata": {},
   "source": [
    "## Debugging Coding Section"
   ]
  },
  {
   "cell_type": "code",
   "execution_count": null,
   "metadata": {
    "collapsed": false
   },
   "outputs": [
    {
     "name": "stdout",
     "output_type": "stream",
     "text": [
      "[78, 113, 75]\n",
      "[ 45.23600006  31.30799866  47.93880081   1.        ]\n",
      "[  81.12500763  134.99999619  113.9375        1.        ]\n",
      "21730\n",
      "subcortical\n"
     ]
    }
   ],
   "source": [
    "realspace_coordinates = np.dot(les_affine, [average_les[0][0],\n",
    "                 average_les[0][1], \n",
    "                 average_les[0][2],\n",
    "                 1])\n",
    "average_les[0] \n",
    "realspace_coordinates\n",
    "from numpy.linalg import inv\n",
    "inv_seg_affine = np.linalg.inv(seg_affine)\n",
    "freesurfer_matrix = np.dot(inv_seg_affine, [realspace_coordinates[0],\n",
    "                                            realspace_coordinates[1], \n",
    "                                            realspace_coordinates[2],\n",
    "                                            1])\n",
    "print average_les[0]; print realspace_coordinates; print freesurfer_matrix\n",
    "\n",
    "print len(midbrain[0])\n",
    "\n",
    "les_type = []\n",
    "\n",
    "for test_count in range(len(lesions)):\n",
    "    for count in range(len(lesions[test_count])):\n",
    "        for count2 in range(len(midbrain)):\n",
    "            halt = \"\"\n",
    "            for count3 in range(len(midbrain[count2])):\n",
    "                if lesions[test_count][count] == midbrain[count2][count3]:\n",
    "                    inf_num += 1\n",
    "                    lesion_type = \"infratentorial\"\n",
    "                    halt = \"stop\"\n",
    "                    break\n",
    "            if halt == \"stop\":\n",
    "                break\n",
    "    print lesion_type\n",
    "if lesion_type == \"infratentorial\":\n",
    "    les_type.append(lesion_type)\n",
    "elif lesion_type == \"\":\n",
    "    les_type.append(\"subcortical\")\n",
    "\n",
    "print les_type\n",
    "print inf_num"
   ]
  },
  {
   "cell_type": "code",
   "execution_count": null,
   "metadata": {
    "collapsed": false
   },
   "outputs": [],
   "source": []
  },
  {
   "cell_type": "markdown",
   "metadata": {},
   "source": [
    "## Function that takes in coordinates for lesions, and outputs average; may not actually use this"
   ]
  },
  {
   "cell_type": "code",
   "execution_count": null,
   "metadata": {
    "collapsed": true
   },
   "outputs": [],
   "source": [
    "def average_func(coordinates):\n",
    "    averages_all = []\n",
    "    for count in range(len(coordinates)):\n",
    "        averages = []\n",
    "        sumx=0;sumy=0;sumz=0\n",
    "        for count2 in range(len(coordinates[count])):\n",
    "            sumx += coordinates[count][count2][0]\n",
    "            sumy += coordinates[count][count2][1]\n",
    "            sumz += coordinates[count][count2][2]\n",
    "        average_x = sumx / len(coordinates[count])\n",
    "        average_y = sumy / len(coordinates[count])\n",
    "        average_z = sumz / len(coordinates[count])\n",
    "        averages = [average_x, average_y, average_z]\n",
    "        averages_all.append(averages)\n",
    "        #print count, averages\n",
    "    return averages_all"
   ]
  },
  {
   "cell_type": "code",
   "execution_count": null,
   "metadata": {
    "collapsed": false
   },
   "outputs": [],
   "source": [
    "average_les = average_func(get_label_coord(les_labels, n_les_labels))\n",
    "average_rs = average_func(get_rs_coord(get_label_coord(les_labels, n_les_labels)))\n",
    "average_seg = average_func(get_seg_coord(get_rs_coord(get_label_coord(les_labels, n_les_labels))))\n",
    "\n",
    "allcoord_les = get_label_coord(les_labels, n_les_labels)\n",
    "allcoord_rs = get_rs_coord(get_label_coord(les_labels, n_les_labels))\n",
    "allcoord_seg = get_seg_coord(get_rs_coord(get_label_coord(les_labels, n_les_labels)))\n",
    "\n",
    "print average_les[0]\n",
    "print average_rs[0]\n",
    "print average_seg[0]\n",
    "print allcoord_les[0][0]\n",
    "print allcoord_rs[0][0]\n",
    "print allcoord_seg[0][0]\n",
    "\n",
    "print average_seg"
   ]
  },
  {
   "cell_type": "code",
   "execution_count": null,
   "metadata": {
    "collapsed": true
   },
   "outputs": [],
   "source": []
  }
 ],
 "metadata": {
  "kernelspec": {
   "display_name": "Python 2",
   "language": "python",
   "name": "python2"
  },
  "language_info": {
   "codemirror_mode": {
    "name": "ipython",
    "version": 2
   },
   "file_extension": ".py",
   "mimetype": "text/x-python",
   "name": "python",
   "nbconvert_exporter": "python",
   "pygments_lexer": "ipython2",
   "version": "2.7.11"
  }
 },
 "nbformat": 4,
 "nbformat_minor": 0
}
